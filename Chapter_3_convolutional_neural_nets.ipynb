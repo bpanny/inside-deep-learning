{
  "cells": [
    {
      "cell_type": "markdown",
      "source": [
        "Convolutional neural nets encode structural priors"
      ],
      "metadata": {
        "id": "qgxcUoJkBWY_"
      }
    },
    {
      "cell_type": "code",
      "execution_count": 2,
      "metadata": {
        "ExecuteTime": {
          "end_time": "2021-03-22T14:56:51.292652Z",
          "start_time": "2021-03-22T14:56:50.045676Z"
        },
        "tags": [
          "remove_cell"
        ],
        "id": "e8IOQloDAGVz"
      },
      "outputs": [],
      "source": [
        "import torch\n",
        "import torch.nn as nn\n",
        "import torch.nn.functional as F\n",
        "\n",
        "\n",
        "from torch.utils.data import Dataset, DataLoader\n",
        "\n",
        "from tqdm.autonotebook import tqdm\n",
        "\n",
        "import numpy as np\n",
        "import seaborn as sns\n",
        "import matplotlib.pyplot as plt\n",
        "from matplotlib.pyplot import imshow\n",
        "\n",
        "import pandas as pd\n",
        "\n",
        "from sklearn.metrics import accuracy_score\n",
        "\n",
        "import time\n",
        "\n",
        "from idlmam import train_simple_network, set_seed"
      ]
    },
    {
      "cell_type": "code",
      "execution_count": 3,
      "metadata": {
        "ExecuteTime": {
          "end_time": "2021-03-22T14:56:51.300000Z",
          "start_time": "2021-03-22T14:56:51.294314Z"
        },
        "tags": [
          "remove_cell"
        ],
        "colab": {
          "base_uri": "https://localhost:8080/"
        },
        "id": "Fdy0lPPdAGV0",
        "outputId": "81e35f55-3cb7-4a38-84a5-6857d335adea"
      },
      "outputs": [
        {
          "output_type": "stream",
          "name": "stderr",
          "text": [
            "<ipython-input-3-ec05cfbb3f04>:3: DeprecationWarning: `set_matplotlib_formats` is deprecated since IPython 7.23, directly use `matplotlib_inline.backend_inline.set_matplotlib_formats()`\n",
            "  set_matplotlib_formats('png', 'pdf')\n"
          ]
        }
      ],
      "source": [
        "%matplotlib inline\n",
        "from IPython.display import set_matplotlib_formats\n",
        "set_matplotlib_formats('png', 'pdf')\n",
        "\n",
        "def set_seed(seed):\n",
        "    torch.manual_seed(seed)\n",
        "    np.random.seed(seed)\n",
        "\n",
        "torch.backends.cudnn.deterministic=True\n",
        "set_seed(1)"
      ]
    },
    {
      "cell_type": "code",
      "execution_count": 4,
      "metadata": {
        "ExecuteTime": {
          "end_time": "2021-03-22T14:56:51.351972Z",
          "start_time": "2021-03-22T14:56:51.309417Z"
        },
        "id": "8yvXo_ydAGV1"
      },
      "outputs": [],
      "source": [
        "import torchvision\n",
        "from torchvision import transforms"
      ]
    },
    {
      "cell_type": "markdown",
      "source": [
        "We can consider image data to have the shape\n",
        "\n",
        "$(N, W, H)$\n",
        "\n",
        "or\n",
        "\n",
        "$(N, C, W, H)$\n",
        "\n",
        "to include color channels"
      ],
      "metadata": {
        "id": "2A5FQnvUBkz0"
      }
    },
    {
      "cell_type": "code",
      "execution_count": 5,
      "metadata": {
        "ExecuteTime": {
          "end_time": "2021-03-22T14:56:51.379280Z",
          "start_time": "2021-03-22T14:56:51.354271Z"
        },
        "colab": {
          "base_uri": "https://localhost:8080/",
          "height": 811
        },
        "id": "IM_XUG-PAGV1",
        "outputId": "59166465-6f9a-4614-b2c1-e0e5c86e2b0a"
      },
      "outputs": [
        {
          "output_type": "stream",
          "name": "stdout",
          "text": [
            "Downloading http://yann.lecun.com/exdb/mnist/train-images-idx3-ubyte.gz\n",
            "Failed to download (trying next):\n",
            "HTTP Error 403: Forbidden\n",
            "\n",
            "Downloading https://ossci-datasets.s3.amazonaws.com/mnist/train-images-idx3-ubyte.gz\n",
            "Downloading https://ossci-datasets.s3.amazonaws.com/mnist/train-images-idx3-ubyte.gz to ./data/MNIST/raw/train-images-idx3-ubyte.gz\n"
          ]
        },
        {
          "output_type": "stream",
          "name": "stderr",
          "text": [
            "100%|██████████| 9912422/9912422 [00:00<00:00, 16207710.58it/s]\n"
          ]
        },
        {
          "output_type": "stream",
          "name": "stdout",
          "text": [
            "Extracting ./data/MNIST/raw/train-images-idx3-ubyte.gz to ./data/MNIST/raw\n",
            "\n",
            "Downloading http://yann.lecun.com/exdb/mnist/train-labels-idx1-ubyte.gz\n",
            "Failed to download (trying next):\n",
            "HTTP Error 403: Forbidden\n",
            "\n",
            "Downloading https://ossci-datasets.s3.amazonaws.com/mnist/train-labels-idx1-ubyte.gz\n",
            "Downloading https://ossci-datasets.s3.amazonaws.com/mnist/train-labels-idx1-ubyte.gz to ./data/MNIST/raw/train-labels-idx1-ubyte.gz\n"
          ]
        },
        {
          "output_type": "stream",
          "name": "stderr",
          "text": [
            "100%|██████████| 28881/28881 [00:00<00:00, 486805.45it/s]\n"
          ]
        },
        {
          "output_type": "stream",
          "name": "stdout",
          "text": [
            "Extracting ./data/MNIST/raw/train-labels-idx1-ubyte.gz to ./data/MNIST/raw\n",
            "\n",
            "Downloading http://yann.lecun.com/exdb/mnist/t10k-images-idx3-ubyte.gz\n",
            "Failed to download (trying next):\n",
            "HTTP Error 403: Forbidden\n",
            "\n",
            "Downloading https://ossci-datasets.s3.amazonaws.com/mnist/t10k-images-idx3-ubyte.gz\n",
            "Downloading https://ossci-datasets.s3.amazonaws.com/mnist/t10k-images-idx3-ubyte.gz to ./data/MNIST/raw/t10k-images-idx3-ubyte.gz\n"
          ]
        },
        {
          "output_type": "stream",
          "name": "stderr",
          "text": [
            "100%|██████████| 1648877/1648877 [00:00<00:00, 4432772.13it/s]\n"
          ]
        },
        {
          "output_type": "stream",
          "name": "stdout",
          "text": [
            "Extracting ./data/MNIST/raw/t10k-images-idx3-ubyte.gz to ./data/MNIST/raw\n",
            "\n",
            "Downloading http://yann.lecun.com/exdb/mnist/t10k-labels-idx1-ubyte.gz\n",
            "Failed to download (trying next):\n",
            "HTTP Error 403: Forbidden\n",
            "\n",
            "Downloading https://ossci-datasets.s3.amazonaws.com/mnist/t10k-labels-idx1-ubyte.gz\n",
            "Downloading https://ossci-datasets.s3.amazonaws.com/mnist/t10k-labels-idx1-ubyte.gz to ./data/MNIST/raw/t10k-labels-idx1-ubyte.gz\n"
          ]
        },
        {
          "output_type": "stream",
          "name": "stderr",
          "text": [
            "100%|██████████| 4542/4542 [00:00<00:00, 10923468.33it/s]\n"
          ]
        },
        {
          "output_type": "stream",
          "name": "stdout",
          "text": [
            "Extracting ./data/MNIST/raw/t10k-labels-idx1-ubyte.gz to ./data/MNIST/raw\n",
            "\n"
          ]
        },
        {
          "output_type": "execute_result",
          "data": {
            "text/plain": [
              "PIL.Image.Image"
            ],
            "text/html": [
              "<div style=\"max-width:800px; border: 1px solid var(--colab-border-color);\"><style>\n",
              "      pre.function-repr-contents {\n",
              "        overflow-x: auto;\n",
              "        padding: 8px 12px;\n",
              "        max-height: 500px;\n",
              "      }\n",
              "\n",
              "      pre.function-repr-contents.function-repr-contents-collapsed {\n",
              "        cursor: pointer;\n",
              "        max-height: 100px;\n",
              "      }\n",
              "    </style>\n",
              "    <pre style=\"white-space: initial; background:\n",
              "         var(--colab-secondary-surface-color); padding: 8px 12px;\n",
              "         border-bottom: 1px solid var(--colab-border-color);\"><b>PIL.Image.Image</b><br/>def __init__()</pre><pre class=\"function-repr-contents function-repr-contents-collapsed\" style=\"\"><a class=\"filepath\" style=\"display:none\" href=\"#\">/usr/local/lib/python3.10/dist-packages/PIL/Image.py</a>This class represents an image object.  To create\n",
              ":py:class:`~PIL.Image.Image` objects, use the appropriate factory\n",
              "functions.  There&#x27;s hardly ever any reason to call the Image constructor\n",
              "directly.\n",
              "\n",
              "* :py:func:`~PIL.Image.open`\n",
              "* :py:func:`~PIL.Image.new`\n",
              "* :py:func:`~PIL.Image.frombytes`</pre>\n",
              "      <script>\n",
              "      if (google.colab.kernel.accessAllowed && google.colab.files && google.colab.files.view) {\n",
              "        for (const element of document.querySelectorAll('.filepath')) {\n",
              "          element.style.display = 'block'\n",
              "          element.onclick = (event) => {\n",
              "            event.preventDefault();\n",
              "            event.stopPropagation();\n",
              "            google.colab.files.view(element.textContent, 496);\n",
              "          };\n",
              "        }\n",
              "      }\n",
              "      for (const element of document.querySelectorAll('.function-repr-contents')) {\n",
              "        element.onclick = (event) => {\n",
              "          event.preventDefault();\n",
              "          event.stopPropagation();\n",
              "          element.classList.toggle('function-repr-contents-collapsed');\n",
              "        };\n",
              "      }\n",
              "      </script>\n",
              "      </div>"
            ]
          },
          "metadata": {},
          "execution_count": 5
        }
      ],
      "source": [
        "mnist_data_train = torchvision.datasets.MNIST(\"./data\", train=True, download=True)\n",
        "mnist_data_test = torchvision.datasets.MNIST(\"./data\", train=False, download=True)\n",
        "x_example, y_example = mnist_data_train[0]\n",
        "type(x_example) # PIL.image.image because images!"
      ]
    },
    {
      "cell_type": "code",
      "execution_count": 6,
      "metadata": {
        "ExecuteTime": {
          "end_time": "2021-03-22T14:56:51.408830Z",
          "start_time": "2021-03-22T14:56:51.380844Z"
        },
        "colab": {
          "base_uri": "https://localhost:8080/"
        },
        "id": "N_pWr8_xAGV1",
        "outputId": "845568b9-4062-4a36-db7a-6bbfa7ceeac6"
      },
      "outputs": [
        {
          "output_type": "stream",
          "name": "stdout",
          "text": [
            "torch.Size([1, 28, 28])\n"
          ]
        }
      ],
      "source": [
        "# transform from image to tensor\n",
        "mnist_data_train = torchvision.datasets.MNIST(\"./data\", train=True, download=True, transform=transforms.ToTensor())\n",
        "mnist_data_test = torchvision.datasets.MNIST(\"./data\", train=False, download=True, transform=transforms.ToTensor())\n",
        "x_example, y_example = mnist_data_train[0]\n",
        "print(x_example.shape)"
      ]
    },
    {
      "cell_type": "code",
      "execution_count": 7,
      "metadata": {
        "ExecuteTime": {
          "end_time": "2021-03-22T14:56:51.595917Z",
          "start_time": "2021-03-22T14:56:51.409942Z"
        },
        "max_h": 0.3,
        "colab": {
          "base_uri": "https://localhost:8080/",
          "height": 447
        },
        "id": "LDuD7mXIAGV1",
        "outputId": "03ce0988-3bb1-4683-8219-b57bec0f9bcc"
      },
      "outputs": [
        {
          "output_type": "execute_result",
          "data": {
            "text/plain": [
              "<matplotlib.image.AxesImage at 0x7f6f6e2a3070>"
            ]
          },
          "metadata": {},
          "execution_count": 7
        },
        {
          "output_type": "display_data",
          "data": {
            "text/plain": [
              "<Figure size 640x480 with 1 Axes>"
            ],
            "image/png": "[encoded data removed]",
            "application/pdf": "[encoded data removed]"
          },
          "metadata": {}
        }
      ],
      "source": [
        "imshow(x_example[0,:], cmap='gray')"
      ]
    },
    {
      "cell_type": "code",
      "execution_count": 8,
      "metadata": {
        "ExecuteTime": {
          "end_time": "2021-03-22T14:56:51.601538Z",
          "start_time": "2021-03-22T14:56:51.597195Z"
        },
        "colab": {
          "base_uri": "https://localhost:8080/"
        },
        "id": "tmcHS5sUAGV2",
        "outputId": "9ec2f1b6-ed82-4cee-ddd1-48ece828fe5e"
      },
      "outputs": [
        {
          "output_type": "stream",
          "name": "stdout",
          "text": [
            "torch.Size([3, 28, 28])\n"
          ]
        }
      ],
      "source": [
        "# stack along dim 0, makes a 'channeled' image\n",
        "x_as_color = torch.stack([x_example[0,:], x_example[0,:], x_example[0,:]], dim=0)\n",
        "print(x_as_color.shape)"
      ]
    },
    {
      "cell_type": "code",
      "execution_count": 9,
      "metadata": {
        "ExecuteTime": {
          "end_time": "2021-03-22T14:56:51.764490Z",
          "start_time": "2021-03-22T14:56:51.602584Z"
        },
        "max_h": 0.3,
        "colab": {
          "base_uri": "https://localhost:8080/",
          "height": 447
        },
        "id": "3GTTWIyNAGV2",
        "outputId": "b67fa9c6-cf34-4af4-c9ea-467c9051ddaa"
      },
      "outputs": [
        {
          "output_type": "execute_result",
          "data": {
            "text/plain": [
              "<matplotlib.image.AxesImage at 0x7f6f6ae0e350>"
            ]
          },
          "metadata": {},
          "execution_count": 9
        },
        {
          "output_type": "display_data",
          "data": {
            "text/plain": [
              "<Figure size 640x480 with 1 Axes>"
            ],
            "image/png": "[encoded data removed]",
            "application/pdf": "[encoded data removed]"
          },
          "metadata": {}
        }
      ],
      "source": [
        "imshow(x_as_color.permute(1,2,0)) # permute because imshow expects W,H,C"
      ]
    },
    {
      "cell_type": "code",
      "execution_count": 10,
      "metadata": {
        "ExecuteTime": {
          "end_time": "2021-03-22T14:56:51.929352Z",
          "start_time": "2021-03-22T14:56:51.765727Z"
        },
        "max_h": 0.3,
        "colab": {
          "base_uri": "https://localhost:8080/",
          "height": 447
        },
        "id": "JmF1UGCdAGV2",
        "outputId": "4c95a4dc-23c9-47bc-962d-f17c5e470b5b"
      },
      "outputs": [
        {
          "output_type": "execute_result",
          "data": {
            "text/plain": [
              "<matplotlib.image.AxesImage at 0x7f6f6ac81270>"
            ]
          },
          "metadata": {},
          "execution_count": 10
        },
        {
          "output_type": "display_data",
          "data": {
            "text/plain": [
              "<Figure size 640x480 with 1 Axes>"
            ],
            "image/png": "[encoded data removed]",
            "application/pdf": "[encoded data removed]"
          },
          "metadata": {}
        }
      ],
      "source": [
        "# turn off red and blue channels (RGB), black and white before because R=G=B= black and white.\n",
        "x_as_color = torch.stack([x_example[0,:], x_example[0,:], x_example[0,:]])\n",
        "x_as_color[0,:] = 0 #No Red\n",
        "#Leaving green alone\n",
        "x_as_color[2,:] = 0 #No Blue\n",
        "imshow(x_as_color.permute(1,2,0))"
      ]
    },
    {
      "cell_type": "code",
      "execution_count": 11,
      "metadata": {
        "ExecuteTime": {
          "end_time": "2021-03-22T14:56:52.092769Z",
          "start_time": "2021-03-22T14:56:51.930590Z"
        },
        "max_h": 0.3,
        "colab": {
          "base_uri": "https://localhost:8080/",
          "height": 447
        },
        "id": "w7kuSt3HAGV2",
        "outputId": "082303cf-e045-4c48-c449-d9caab4bdea8"
      },
      "outputs": [
        {
          "output_type": "execute_result",
          "data": {
            "text/plain": [
              "<matplotlib.image.AxesImage at 0x7f6f6aaf70a0>"
            ]
          },
          "metadata": {},
          "execution_count": 11
        },
        {
          "output_type": "display_data",
          "data": {
            "text/plain": [
              "<Figure size 640x480 with 1 Axes>"
            ],
            "image/png": "[encoded data removed]",
            "application/pdf": "[encoded data removed]"
          },
          "metadata": {}
        }
      ],
      "source": [
        "#grab 3 images\n",
        "x1, x2, x3 = mnist_data_train[0], mnist_data_train[1], mnist_data_train[2]\n",
        "#drop the labels\n",
        "x1, x2, x3 = x1[0], x2[0], x3[0]\n",
        "x_as_color = torch.stack([x1[0,:], x2[0,:], x3[0,:]], dim=0)\n",
        "imshow(x_as_color.permute(1,2,0))"
      ]
    },
    {
      "cell_type": "code",
      "execution_count": 12,
      "metadata": {
        "ExecuteTime": {
          "end_time": "2021-03-22T14:56:52.258941Z",
          "start_time": "2021-03-22T14:56:52.094057Z"
        },
        "max_h": 0.3,
        "colab": {
          "base_uri": "https://localhost:8080/",
          "height": 447
        },
        "id": "UkZ4tvu3AGV2",
        "outputId": "151520f4-9da7-492c-c5b7-c82a0b662608"
      },
      "outputs": [
        {
          "output_type": "execute_result",
          "data": {
            "text/plain": [
              "<matplotlib.image.AxesImage at 0x7f6f6ab8cac0>"
            ]
          },
          "metadata": {},
          "execution_count": 12
        },
        {
          "output_type": "display_data",
          "data": {
            "text/plain": [
              "<Figure size 640x480 with 1 Axes>"
            ],
            "image/png": "[encoded data removed]",
            "application/pdf": "[encoded data removed]"
          },
          "metadata": {}
        }
      ],
      "source": [
        "rand_order = torch.randperm(x_example.shape[1] * x_example.shape[2])\n",
        "x_shuffled = x_example.view(-1)[rand_order].view(x_example.shape)\n",
        "imshow(x_shuffled[0,:], cmap='gray')"
      ]
    },
    {
      "cell_type": "code",
      "execution_count": 13,
      "metadata": {
        "ExecuteTime": {
          "end_time": "2021-03-22T14:56:52.486229Z",
          "start_time": "2021-03-22T14:56:52.260269Z"
        },
        "max_h": 0.3,
        "colab": {
          "base_uri": "https://localhost:8080/",
          "height": 447
        },
        "id": "nI7suKk9AGV2",
        "outputId": "b947865d-a709-463f-f499-54be70be27ba"
      },
      "outputs": [
        {
          "output_type": "execute_result",
          "data": {
            "text/plain": [
              "<matplotlib.image.AxesImage at 0x7f6f6aa2fb80>"
            ]
          },
          "metadata": {},
          "execution_count": 13
        },
        {
          "output_type": "display_data",
          "data": {
            "text/plain": [
              "<Figure size 640x480 with 1 Axes>"
            ],
            "image/png": "[encoded data removed]",
            "application/pdf": "[encoded data removed]"
          },
          "metadata": {}
        }
      ],
      "source": [
        "from scipy.signal import convolve\n",
        "img_indx = 58\n",
        "img = mnist_data_train[img_indx][0][0,:]\n",
        "plt.imshow(img, vmin=0, vmax=1, cmap='gray')"
      ]
    },
    {
      "cell_type": "markdown",
      "source": [
        "A filter/kernel must have the exact same number of channels as the images coming into it.\n",
        "\n",
        "Filters define what kind of \"pattern\" to look for. The more convolutions you have, the more patterns you can detect."
      ],
      "metadata": {
        "id": "VHJXTVhMI6_4"
      }
    },
    {
      "cell_type": "code",
      "execution_count": 15,
      "metadata": {
        "ExecuteTime": {
          "end_time": "2021-03-22T14:56:52.653303Z",
          "start_time": "2021-03-22T14:56:52.487509Z"
        },
        "max_h": 0.3,
        "colab": {
          "base_uri": "https://localhost:8080/",
          "height": 430
        },
        "id": "aASUjbATAGV3",
        "outputId": "7b08f290-d9a4-4ba9-f3b2-eb94a3bbc1ad"
      },
      "outputs": [
        {
          "output_type": "display_data",
          "data": {
            "text/plain": [
              "<Figure size 640x480 with 1 Axes>"
            ],
            "image/png": "[encoded data removed]",
            "application/pdf": "[encoded data removed]"
          },
          "metadata": {}
        }
      ],
      "source": [
        "blur_filter = np.asarray([[1,1,1],\n",
        "                          [1,1,1],\n",
        "                          [1,1,1]\n",
        "                         ])/9.0\n",
        "\n",
        "blurry_img = convolve(img, blur_filter)\n",
        "plt.imshow(blurry_img, vmin=0, vmax=1, cmap='gray')\n",
        "plt.show()"
      ]
    },
    {
      "cell_type": "code",
      "execution_count": 17,
      "metadata": {
        "ExecuteTime": {
          "end_time": "2021-03-22T14:56:52.819553Z",
          "start_time": "2021-03-22T14:56:52.654427Z"
        },
        "max_h": 0.3,
        "colab": {
          "base_uri": "https://localhost:8080/",
          "height": 430
        },
        "id": "UmpLtbAAAGV3",
        "outputId": "4b7605e3-3e3e-4f94-e543-b417421a9995"
      },
      "outputs": [
        {
          "output_type": "display_data",
          "data": {
            "text/plain": [
              "<Figure size 640x480 with 1 Axes>"
            ],
            "image/png": "[encoded data removed]",
            "application/pdf": "[encoded data removed]"
          },
          "metadata": {}
        }
      ],
      "source": [
        "#We can find edges by focusing on the difference between a pixel, and its neighbors\n",
        "edge_filter = np.asarray([[-1,-1,-1],\n",
        "                          [-1, 8,-1],\n",
        "                          [-1,-1,-1]\n",
        "                         ])\n",
        "\n",
        "\n",
        "edge_img = convolve(img, edge_filter)\n",
        "plt.imshow(edge_img, vmin=0, vmax=1, cmap='gray')\n",
        "plt.show()"
      ]
    },
    {
      "cell_type": "code",
      "execution_count": 18,
      "metadata": {
        "ExecuteTime": {
          "end_time": "2021-03-22T14:56:52.986823Z",
          "start_time": "2021-03-22T14:56:52.822341Z"
        },
        "max_h": 0.3,
        "colab": {
          "base_uri": "https://localhost:8080/",
          "height": 430
        },
        "id": "_C-CbFZ5AGV3",
        "outputId": "ed72f972-313c-49d5-c3d7-9c9b758a7730"
      },
      "outputs": [
        {
          "output_type": "display_data",
          "data": {
            "text/plain": [
              "<Figure size 640x480 with 1 Axes>"
            ],
            "image/png": "[encoded data removed]",
            "application/pdf": "[encoded data removed]"
          },
          "metadata": {}
        }
      ],
      "source": [
        "#We could look for only horizontal edges\n",
        "h_edge_filter = np.asarray([[-1,-1,-1],\n",
        "                          [0, 0,0],\n",
        "                          [1, 1, 1]\n",
        "                         ])\n",
        "\n",
        "\n",
        "h_edge_img = convolve(img, h_edge_filter)\n",
        "plt.imshow(h_edge_img, vmin=0, vmax=1, cmap='gray')\n",
        "plt.show()"
      ]
    },
    {
      "cell_type": "markdown",
      "source": [
        "Convolving an input with a filter means pairwise multiplication of the filter values at each location and summing them all up\n",
        "\n",
        "To determine the size of the output image after applying a convolutional filter to an input image, you can use the following mathematical formulation.\n",
        "\n",
        "### Definitions:\n",
        "- $ w $: Width of the input image\n",
        "- $ h $: Height of the input image\n",
        "- $ n $: Size (width and height) of the filter (assuming it's a square filter)\n",
        "- $ p $: Padding (number of pixels added to the border of the image) (because we don't want the input to disappear after multiple convolutions) (e.g., zero padding adds zeros around the image)\n",
        "- $ s $: Stride (number of pixels the filter moves at each step)\n",
        "\n",
        "### Formula for Output Dimensions:\n",
        "The output dimensions (width and height) of the image after applying the convolutional filter can be calculated using the following formulas:\n",
        "\n",
        "$ \\text{Output Width} = \\left\\lfloor \\frac{w - n + 2p}{s} \\right\\rfloor + 1 $\n",
        "$ \\text{Output Height} = \\left\\lfloor \\frac{h - n + 2p}{s} \\right\\rfloor + 1 $\n",
        "\n",
        "where:\n",
        "- $ \\left\\lfloor \\cdot \\right\\rfloor $ denotes the floor function, which rounds down to the nearest integer.\n",
        "\n",
        "### Explanation:\n",
        "1. **$ w - n $** and **$ h - n $**: These terms represent the reduction in width and height due to the size of the filter. Each application of the filter reduces the dimensions of the image by $ n-1 $ pixels.\n",
        "2. **$ + 2p $**: This term accounts for padding. Padding adds pixels around the border of the image, which can help preserve the spatial dimensions of the input image.\n",
        "3. **$ / s $**: Dividing by the stride accounts for the step size of the filter. If the stride is greater than 1, the filter moves more than one pixel at a time, which reduces the size of the output image.\n",
        "4. **$ + 1 $**: This term accounts for the initial position of the filter at the start of the convolution process.\n",
        "\n",
        "### Example Calculation:\n",
        "Let's consider a specific example to illustrate this. Suppose you have:\n",
        "- An input image of size $ 1 \\times 5 \\times 5 $ (width $ w = 5 $, height $ h = 5 $)\n",
        "- A filter of size $ 3 \\times 3 $ (filter size $ n = 3 $)\n",
        "- No padding ($ p = 0 $)\n",
        "- A stride of $ 1 $ ($ s = 1 $)\n",
        "\n",
        "Using the formulas:\n",
        "\n",
        "$ \\text{Output Width} = \\left\\lfloor \\frac{5 - 3 + 0}{1} \\right\\rfloor + 1 = \\left\\lfloor \\frac{2}{1} \\right\\rfloor + 1 = 2 + 1 = 3 $\n",
        "\n",
        "$ \\text{Output Height} = \\left\\lfloor \\frac{5 - 3 + 0}{1} \\right\\rfloor + 1 = \\left\\lfloor \\frac{2}{1} \\right\\rfloor + 1 = 2 + 1 = 3 $\n",
        "\n",
        "So, the output image size after convolution would be $ 1 \\times 3 \\times 3 $.\n",
        "\n",
        "To keep the same image size, if filter size is K, then use padding of $\\lfloor{K/2}\\rfloor$\n",
        "\n",
        "**Convolutions are Linear Operations that Work Spatially**\n",
        "Therefore, don't include one after the other (because this is just another linear opeation/convolution), put a nonlinear function between them."
      ],
      "metadata": {
        "id": "hjAr6fUkKuo7"
      }
    },
    {
      "cell_type": "code",
      "execution_count": 19,
      "metadata": {
        "ExecuteTime": {
          "end_time": "2021-03-22T14:56:53.024397Z",
          "start_time": "2021-03-22T14:56:52.988368Z"
        },
        "id": "hxt7WNvwAGV3"
      },
      "outputs": [],
      "source": [
        "device = torch.device(\"cuda\") if torch.cuda.is_aavailable() else torch.device(\"cpu\")\n",
        "\n",
        "B = 32\n",
        "mnist_train_loader = DataLoader(mnist_data_train, batch_size=B, shuffle=True)\n",
        "mnist_test_loader = DataLoader(mnist_data_test, batch_size=B)"
      ]
    },
    {
      "cell_type": "markdown",
      "source": [
        "Represent all filters as $G \\in \\mathbb{R}^{C_{out}, C_{input}, K, K}$\n",
        "\n",
        "C_out is number of different filters, C_in is input channels\n",
        "\n",
        "$R = Input \\circledast G$\n",
        "\n",
        "$R \\in \\mathbb{R}^{K,W',H'}$\n",
        "\n",
        "in `nn.Conv2d(C_in, C_out, K, padding = K//2)`, an image comes in as input with C_in channels, each filter of the C_out filters is applied one at a time, producing a single output channel, and every output channel is combined into one new image with C_out channels\n",
        "\n",
        "Let's write out the mathematical formulations for both models in terms of weights, biases, and functions.\n",
        "\n",
        "### Convolutional Neural Network (`model_cnn`)\n",
        "\n",
        "1. **First Conv2D Layer**:\n",
        "   - Input: $\\mathbf{x} \\in \\mathbb{R}^{B \\times 1 \\times 28 \\times 28}$\n",
        "   - Weights: $\\mathbf{W}_{conv} \\in \\mathbb{R}^{16 \\times 1 \\times 3 \\times 3}$\n",
        "   - Biases: $\\mathbf{b}_{conv} \\in \\mathbb{R}^{16}$\n",
        "   - Convolution Operation:\n",
        "  $$\n",
        "     \\mathbf{h}_{conv, c} = \\mathbf{x} \\circledast \\mathbf{W}_{conv, c} + \\mathbf{b}_{conv, c} \\quad \\text{for} \\; c = 1, \\ldots, 16\n",
        "  $$\n",
        "     where $\\circledast$ denotes the convolution operation, and $c$ indexes the output channels (filters).\n",
        "   - Output: $\\mathbf{h}_{conv} \\in \\mathbb{R}^{B \\times 16 \\times 28 \\times 28}$\n",
        "\n",
        "2. **Tanh Activation Function**:\n",
        "   - Input: $\\mathbf{h}_{conv} \\in \\mathbb{R}^{B \\times 16 \\times 28 \\times 28}$\n",
        "   - Output: $\\mathbf{a}_{conv} = \\tanh(\\mathbf{h}_{conv})$\n",
        "   - Dimensions: $(B, 16 \\times 28 \\times 28) \\rightarrow (B, 16 \\times 28 \\times 28)$\n",
        "\n",
        "3. **Flatten Layer**:\n",
        "   - Input: $\\mathbf{a}_{conv} \\in \\mathbb{R}^{B \\times 16 \\times 28 \\times 28}$\n",
        "   - Output: $\\mathbf{a}_{flat} \\in \\mathbb{R}^{B \\times 12544}$\n",
        "   - For a $28 \\times 28$ image with 16 channels: $ 16 \\times 28 \\times 28 = 12544 $\n",
        "   - Dimensions: $(B, 16 \\times 28 \\times 28) \\rightarrow (B, 12544)$\n",
        "\n",
        "4. **Linear Layer**:\n",
        "   - Input: $\\mathbf{a}_{flat} \\in \\mathbb{R}^{B \\times 12544}$\n",
        "   - Weights: $\\mathbf{W}_{fc} \\in \\mathbb{R}^{10 \\times 12544}$\n",
        "   - Biases: $\\mathbf{b}_{fc} \\in \\mathbb{R}^{10}$\n",
        "   - Output: $\\mathbf{y} = \\mathbf{a}_{flat} \\mathbf{W}_{fc}^\\top + \\mathbf{b}_{fc}$\n",
        "   - Dimensions: $(B, 12544) \\rightarrow (B, 10)$\n",
        "\n",
        "### Summary of Formulations\n",
        "\n",
        "#### Linear Model:\n",
        "1. **Flatten**:\n",
        "$$\n",
        "   \\mathbf{x} \\in \\mathbb{R}^{B \\times 1 \\times 28 \\times 28} \\rightarrow \\mathbf{x}_{flat} \\in \\mathbb{R}^{B \\times 784}\n",
        "$$\n",
        "2. **First Linear Layer**:\n",
        "$$\n",
        "   \\mathbf{h}_1 = \\mathbf{x}_{flat} \\mathbf{W}_1^\\top + \\mathbf{b}_1 \\quad \\mathbf{W}_1 \\in \\mathbb{R}^{256 \\times 784}, \\; \\mathbf{b}_1 \\in \\mathbb{R}^{256}\n",
        "$$\n",
        "3. **Tanh Activation**:\n",
        "$$\n",
        "   \\mathbf{a}_1 = \\tanh(\\mathbf{h}_1)\n",
        "$$\n",
        "4. **Second Linear Layer**:\n",
        "$$\n",
        "   \\mathbf{y} = \\mathbf{a}_1 \\mathbf{W}_2^\\top + \\mathbf{b}_2 \\quad \\mathbf{W}_2 \\in \\mathbb{R}^{10 \\times 256}, \\; \\mathbf{b}_2 \\in \\mathbb{R}^{10}\n",
        "$$\n",
        "\n",
        "#### Convolutional Neural Network:\n",
        "1. **Conv2D Layer**:\n",
        "$$\n",
        "   \\mathbf{h}_{conv, c} = \\mathbf{x} \\circledast \\mathbf{W}_{conv, c} + \\mathbf{b}_{conv, c} \\quad \\mathbf{W}_{conv} \\in \\mathbb{R}^{16 \\times 1 \\times 3 \\times 3}, \\; \\mathbf{b}_{conv} \\in \\mathbb{R}^{16}\n",
        "$$\n",
        "2. **Tanh Activation**:\n",
        "$$\n",
        "   \\mathbf{a}_{conv} = \\tanh(\\mathbf{h}_{conv})\n",
        "$$\n",
        "3. **Flatten**:\n",
        "$$\n",
        "   \\mathbf{a}_{flat} = \\text{flatten}(\\mathbf{a}_{conv}) \\quad \\mathbf{a}_{flat} \\in \\mathbb{R}^{B \\times 12544}\n",
        "$$\n",
        "4. **Linear Layer**:\n",
        "$$\n",
        "   \\mathbf{y} = \\mathbf{a}_{flat} \\mathbf{W}_{fc}^\\top + \\mathbf{b}_{fc} \\quad \\mathbf{W}_{fc} \\in \\mathbb{R}^{10 \\times 12544}, \\; \\mathbf{b}_{fc} \\in \\mathbb{R}^{10}\n",
        "$$\n",
        "\n",
        "These formulations represent the linear transformations and activations applied at each layer of the models.\n",
        "\n",
        "With each C_out, nn.conv2d kindly stacks the output for each filter for us.\n",
        "\n",
        "Put simply:\n",
        "\n",
        "$f(x) = \\text{tanh}\\left(x_{C_{in}, W, H} \\circledast W^{(h_1)}_{C_{out},C_{in},K,K}\\right)W^{(out)}_{(C_{out}\\cdot w \\cdot h), C} = \\text{tanh}\\left(x \\circledast W^{(h_1)}\\right)W^{(out)}$"
      ],
      "metadata": {
        "id": "_1K8tnnuO8iX"
      }
    },
    {
      "cell_type": "code",
      "execution_count": null,
      "metadata": {
        "ExecuteTime": {
          "end_time": "2021-03-22T14:56:53.032073Z",
          "start_time": "2021-03-22T14:56:53.025573Z"
        },
        "id": "9jyH5EbPAGV3"
      },
      "outputs": [],
      "source": [
        "#How many values are in the input? We use this to help determine the size of subsequent layers\n",
        "D = 28*28 #28 * 28 images\n",
        "#How many channels are in the input?\n",
        "C = 1\n",
        "#How many classes are there?\n",
        "classes = 10\n",
        "#How many filters should we use\n",
        "filters = 16\n",
        "#how large should our filters be?\n",
        "K = 3\n",
        "#for comparison, lets define a linear model of similar complexity\n",
        "model_linear = nn.Sequential(\n",
        "  nn.Flatten(), #(B, C, W, H) -> (B, C*W*H) = (B,D)\n",
        "  nn.Linear(D, 256),\n",
        "  nn.Tanh(),\n",
        "  nn.Linear(256, classes),\n",
        ")\n",
        "\n",
        "#A simple convolutional network:\n",
        "model_cnn = nn.Sequential(\n",
        "  #Conv2d follows the pattern of:\n",
        "  #Conv2d(# of input channels, #filters/output-channels, #filter-size)\n",
        "  nn.Conv2d(C, filters, K, padding=K//2), #$x \\circledast G$\n",
        "  nn.Tanh(),#Activation functions work on any size tensor\n",
        "  nn.Flatten(), #Convert from (B, C, W, H) ->(B, D). This way we can use a Linear layer after\n",
        "  nn.Linear(filters*D, classes),\n",
        ")"
      ]
    },
    {
      "cell_type": "code",
      "execution_count": null,
      "metadata": {
        "ExecuteTime": {
          "end_time": "2021-03-22T15:02:46.846007Z",
          "start_time": "2021-03-22T14:56:53.033558Z"
        },
        "tags": [
          "remove_output"
        ],
        "colab": {
          "referenced_widgets": [
            "e6994c9db82b4721a70bea84463f0561",
            "",
            "ebcf1038023e43f2957a4d0a636fb685"
          ]
        },
        "id": "ZWNsSQCUAGV3",
        "outputId": "ecb5d591-25ca-43be-e49d-e9a510ea2045"
      },
      "outputs": [
        {
          "data": {
            "application/vnd.jupyter.widget-view+json": {
              "model_id": "e6994c9db82b4721a70bea84463f0561",
              "version_major": 2,
              "version_minor": 0
            },
            "text/plain": [
              "HBox(children=(HTML(value='Epoch'), FloatProgress(value=0.0, max=20.0), HTML(value='')))"
            ]
          },
          "metadata": {},
          "output_type": "display_data"
        },
        {
          "data": {
            "application/vnd.jupyter.widget-view+json": {
              "model_id": "",
              "version_major": 2,
              "version_minor": 0
            },
            "text/plain": [
              "HBox(children=(HTML(value='Training'), FloatProgress(value=0.0, max=1875.0), HTML(value='')))"
            ]
          },
          "metadata": {},
          "output_type": "display_data"
        },
        {
          "data": {
            "application/vnd.jupyter.widget-view+json": {
              "model_id": "",
              "version_major": 2,
              "version_minor": 0
            },
            "text/plain": [
              "HBox(children=(HTML(value='Testing'), FloatProgress(value=0.0, max=313.0), HTML(value='')))"
            ]
          },
          "metadata": {},
          "output_type": "display_data"
        },
        {
          "data": {
            "application/vnd.jupyter.widget-view+json": {
              "model_id": "",
              "version_major": 2,
              "version_minor": 0
            },
            "text/plain": [
              "HBox(children=(HTML(value='Training'), FloatProgress(value=0.0, max=1875.0), HTML(value='')))"
            ]
          },
          "metadata": {},
          "output_type": "display_data"
        },
        {
          "data": {
            "application/vnd.jupyter.widget-view+json": {
              "model_id": "",
              "version_major": 2,
              "version_minor": 0
            },
            "text/plain": [
              "HBox(children=(HTML(value='Testing'), FloatProgress(value=0.0, max=313.0), HTML(value='')))"
            ]
          },
          "metadata": {},
          "output_type": "display_data"
        },
        {
          "data": {
            "application/vnd.jupyter.widget-view+json": {
              "model_id": "",
              "version_major": 2,
              "version_minor": 0
            },
            "text/plain": [
              "HBox(children=(HTML(value='Training'), FloatProgress(value=0.0, max=1875.0), HTML(value='')))"
            ]
          },
          "metadata": {},
          "output_type": "display_data"
        },
        {
          "data": {
            "application/vnd.jupyter.widget-view+json": {
              "model_id": "",
              "version_major": 2,
              "version_minor": 0
            },
            "text/plain": [
              "HBox(children=(HTML(value='Testing'), FloatProgress(value=0.0, max=313.0), HTML(value='')))"
            ]
          },
          "metadata": {},
          "output_type": "display_data"
        },
        {
          "data": {
            "application/vnd.jupyter.widget-view+json": {
              "model_id": "",
              "version_major": 2,
              "version_minor": 0
            },
            "text/plain": [
              "HBox(children=(HTML(value='Training'), FloatProgress(value=0.0, max=1875.0), HTML(value='')))"
            ]
          },
          "metadata": {},
          "output_type": "display_data"
        },
        {
          "data": {
            "application/vnd.jupyter.widget-view+json": {
              "model_id": "",
              "version_major": 2,
              "version_minor": 0
            },
            "text/plain": [
              "HBox(children=(HTML(value='Testing'), FloatProgress(value=0.0, max=313.0), HTML(value='')))"
            ]
          },
          "metadata": {},
          "output_type": "display_data"
        },
        {
          "data": {
            "application/vnd.jupyter.widget-view+json": {
              "model_id": "",
              "version_major": 2,
              "version_minor": 0
            },
            "text/plain": [
              "HBox(children=(HTML(value='Training'), FloatProgress(value=0.0, max=1875.0), HTML(value='')))"
            ]
          },
          "metadata": {},
          "output_type": "display_data"
        },
        {
          "data": {
            "application/vnd.jupyter.widget-view+json": {
              "model_id": "",
              "version_major": 2,
              "version_minor": 0
            },
            "text/plain": [
              "HBox(children=(HTML(value='Testing'), FloatProgress(value=0.0, max=313.0), HTML(value='')))"
            ]
          },
          "metadata": {},
          "output_type": "display_data"
        },
        {
          "data": {
            "application/vnd.jupyter.widget-view+json": {
              "model_id": "",
              "version_major": 2,
              "version_minor": 0
            },
            "text/plain": [
              "HBox(children=(HTML(value='Training'), FloatProgress(value=0.0, max=1875.0), HTML(value='')))"
            ]
          },
          "metadata": {},
          "output_type": "display_data"
        },
        {
          "data": {
            "application/vnd.jupyter.widget-view+json": {
              "model_id": "",
              "version_major": 2,
              "version_minor": 0
            },
            "text/plain": [
              "HBox(children=(HTML(value='Testing'), FloatProgress(value=0.0, max=313.0), HTML(value='')))"
            ]
          },
          "metadata": {},
          "output_type": "display_data"
        },
        {
          "data": {
            "application/vnd.jupyter.widget-view+json": {
              "model_id": "",
              "version_major": 2,
              "version_minor": 0
            },
            "text/plain": [
              "HBox(children=(HTML(value='Training'), FloatProgress(value=0.0, max=1875.0), HTML(value='')))"
            ]
          },
          "metadata": {},
          "output_type": "display_data"
        },
        {
          "data": {
            "application/vnd.jupyter.widget-view+json": {
              "model_id": "",
              "version_major": 2,
              "version_minor": 0
            },
            "text/plain": [
              "HBox(children=(HTML(value='Testing'), FloatProgress(value=0.0, max=313.0), HTML(value='')))"
            ]
          },
          "metadata": {},
          "output_type": "display_data"
        },
        {
          "data": {
            "application/vnd.jupyter.widget-view+json": {
              "model_id": "",
              "version_major": 2,
              "version_minor": 0
            },
            "text/plain": [
              "HBox(children=(HTML(value='Training'), FloatProgress(value=0.0, max=1875.0), HTML(value='')))"
            ]
          },
          "metadata": {},
          "output_type": "display_data"
        },
        {
          "data": {
            "application/vnd.jupyter.widget-view+json": {
              "model_id": "",
              "version_major": 2,
              "version_minor": 0
            },
            "text/plain": [
              "HBox(children=(HTML(value='Testing'), FloatProgress(value=0.0, max=313.0), HTML(value='')))"
            ]
          },
          "metadata": {},
          "output_type": "display_data"
        },
        {
          "data": {
            "application/vnd.jupyter.widget-view+json": {
              "model_id": "",
              "version_major": 2,
              "version_minor": 0
            },
            "text/plain": [
              "HBox(children=(HTML(value='Training'), FloatProgress(value=0.0, max=1875.0), HTML(value='')))"
            ]
          },
          "metadata": {},
          "output_type": "display_data"
        },
        {
          "data": {
            "application/vnd.jupyter.widget-view+json": {
              "model_id": "",
              "version_major": 2,
              "version_minor": 0
            },
            "text/plain": [
              "HBox(children=(HTML(value='Testing'), FloatProgress(value=0.0, max=313.0), HTML(value='')))"
            ]
          },
          "metadata": {},
          "output_type": "display_data"
        },
        {
          "data": {
            "application/vnd.jupyter.widget-view+json": {
              "model_id": "",
              "version_major": 2,
              "version_minor": 0
            },
            "text/plain": [
              "HBox(children=(HTML(value='Training'), FloatProgress(value=0.0, max=1875.0), HTML(value='')))"
            ]
          },
          "metadata": {},
          "output_type": "display_data"
        },
        {
          "data": {
            "application/vnd.jupyter.widget-view+json": {
              "model_id": "",
              "version_major": 2,
              "version_minor": 0
            },
            "text/plain": [
              "HBox(children=(HTML(value='Testing'), FloatProgress(value=0.0, max=313.0), HTML(value='')))"
            ]
          },
          "metadata": {},
          "output_type": "display_data"
        },
        {
          "data": {
            "application/vnd.jupyter.widget-view+json": {
              "model_id": "",
              "version_major": 2,
              "version_minor": 0
            },
            "text/plain": [
              "HBox(children=(HTML(value='Training'), FloatProgress(value=0.0, max=1875.0), HTML(value='')))"
            ]
          },
          "metadata": {},
          "output_type": "display_data"
        },
        {
          "data": {
            "application/vnd.jupyter.widget-view+json": {
              "model_id": "",
              "version_major": 2,
              "version_minor": 0
            },
            "text/plain": [
              "HBox(children=(HTML(value='Testing'), FloatProgress(value=0.0, max=313.0), HTML(value='')))"
            ]
          },
          "metadata": {},
          "output_type": "display_data"
        },
        {
          "data": {
            "application/vnd.jupyter.widget-view+json": {
              "model_id": "",
              "version_major": 2,
              "version_minor": 0
            },
            "text/plain": [
              "HBox(children=(HTML(value='Training'), FloatProgress(value=0.0, max=1875.0), HTML(value='')))"
            ]
          },
          "metadata": {},
          "output_type": "display_data"
        },
        {
          "data": {
            "application/vnd.jupyter.widget-view+json": {
              "model_id": "",
              "version_major": 2,
              "version_minor": 0
            },
            "text/plain": [
              "HBox(children=(HTML(value='Testing'), FloatProgress(value=0.0, max=313.0), HTML(value='')))"
            ]
          },
          "metadata": {},
          "output_type": "display_data"
        },
        {
          "data": {
            "application/vnd.jupyter.widget-view+json": {
              "model_id": "",
              "version_major": 2,
              "version_minor": 0
            },
            "text/plain": [
              "HBox(children=(HTML(value='Training'), FloatProgress(value=0.0, max=1875.0), HTML(value='')))"
            ]
          },
          "metadata": {},
          "output_type": "display_data"
        },
        {
          "data": {
            "application/vnd.jupyter.widget-view+json": {
              "model_id": "",
              "version_major": 2,
              "version_minor": 0
            },
            "text/plain": [
              "HBox(children=(HTML(value='Testing'), FloatProgress(value=0.0, max=313.0), HTML(value='')))"
            ]
          },
          "metadata": {},
          "output_type": "display_data"
        },
        {
          "data": {
            "application/vnd.jupyter.widget-view+json": {
              "model_id": "",
              "version_major": 2,
              "version_minor": 0
            },
            "text/plain": [
              "HBox(children=(HTML(value='Training'), FloatProgress(value=0.0, max=1875.0), HTML(value='')))"
            ]
          },
          "metadata": {},
          "output_type": "display_data"
        },
        {
          "data": {
            "application/vnd.jupyter.widget-view+json": {
              "model_id": "",
              "version_major": 2,
              "version_minor": 0
            },
            "text/plain": [
              "HBox(children=(HTML(value='Testing'), FloatProgress(value=0.0, max=313.0), HTML(value='')))"
            ]
          },
          "metadata": {},
          "output_type": "display_data"
        },
        {
          "data": {
            "application/vnd.jupyter.widget-view+json": {
              "model_id": "",
              "version_major": 2,
              "version_minor": 0
            },
            "text/plain": [
              "HBox(children=(HTML(value='Training'), FloatProgress(value=0.0, max=1875.0), HTML(value='')))"
            ]
          },
          "metadata": {},
          "output_type": "display_data"
        },
        {
          "data": {
            "application/vnd.jupyter.widget-view+json": {
              "model_id": "",
              "version_major": 2,
              "version_minor": 0
            },
            "text/plain": [
              "HBox(children=(HTML(value='Testing'), FloatProgress(value=0.0, max=313.0), HTML(value='')))"
            ]
          },
          "metadata": {},
          "output_type": "display_data"
        },
        {
          "data": {
            "application/vnd.jupyter.widget-view+json": {
              "model_id": "",
              "version_major": 2,
              "version_minor": 0
            },
            "text/plain": [
              "HBox(children=(HTML(value='Training'), FloatProgress(value=0.0, max=1875.0), HTML(value='')))"
            ]
          },
          "metadata": {},
          "output_type": "display_data"
        },
        {
          "data": {
            "application/vnd.jupyter.widget-view+json": {
              "model_id": "",
              "version_major": 2,
              "version_minor": 0
            },
            "text/plain": [
              "HBox(children=(HTML(value='Testing'), FloatProgress(value=0.0, max=313.0), HTML(value='')))"
            ]
          },
          "metadata": {},
          "output_type": "display_data"
        },
        {
          "data": {
            "application/vnd.jupyter.widget-view+json": {
              "model_id": "",
              "version_major": 2,
              "version_minor": 0
            },
            "text/plain": [
              "HBox(children=(HTML(value='Training'), FloatProgress(value=0.0, max=1875.0), HTML(value='')))"
            ]
          },
          "metadata": {},
          "output_type": "display_data"
        },
        {
          "data": {
            "application/vnd.jupyter.widget-view+json": {
              "model_id": "",
              "version_major": 2,
              "version_minor": 0
            },
            "text/plain": [
              "HBox(children=(HTML(value='Testing'), FloatProgress(value=0.0, max=313.0), HTML(value='')))"
            ]
          },
          "metadata": {},
          "output_type": "display_data"
        },
        {
          "data": {
            "application/vnd.jupyter.widget-view+json": {
              "model_id": "",
              "version_major": 2,
              "version_minor": 0
            },
            "text/plain": [
              "HBox(children=(HTML(value='Training'), FloatProgress(value=0.0, max=1875.0), HTML(value='')))"
            ]
          },
          "metadata": {},
          "output_type": "display_data"
        },
        {
          "data": {
            "application/vnd.jupyter.widget-view+json": {
              "model_id": "",
              "version_major": 2,
              "version_minor": 0
            },
            "text/plain": [
              "HBox(children=(HTML(value='Testing'), FloatProgress(value=0.0, max=313.0), HTML(value='')))"
            ]
          },
          "metadata": {},
          "output_type": "display_data"
        },
        {
          "data": {
            "application/vnd.jupyter.widget-view+json": {
              "model_id": "",
              "version_major": 2,
              "version_minor": 0
            },
            "text/plain": [
              "HBox(children=(HTML(value='Training'), FloatProgress(value=0.0, max=1875.0), HTML(value='')))"
            ]
          },
          "metadata": {},
          "output_type": "display_data"
        },
        {
          "data": {
            "application/vnd.jupyter.widget-view+json": {
              "model_id": "",
              "version_major": 2,
              "version_minor": 0
            },
            "text/plain": [
              "HBox(children=(HTML(value='Testing'), FloatProgress(value=0.0, max=313.0), HTML(value='')))"
            ]
          },
          "metadata": {},
          "output_type": "display_data"
        },
        {
          "data": {
            "application/vnd.jupyter.widget-view+json": {
              "model_id": "",
              "version_major": 2,
              "version_minor": 0
            },
            "text/plain": [
              "HBox(children=(HTML(value='Training'), FloatProgress(value=0.0, max=1875.0), HTML(value='')))"
            ]
          },
          "metadata": {},
          "output_type": "display_data"
        },
        {
          "data": {
            "application/vnd.jupyter.widget-view+json": {
              "model_id": "",
              "version_major": 2,
              "version_minor": 0
            },
            "text/plain": [
              "HBox(children=(HTML(value='Testing'), FloatProgress(value=0.0, max=313.0), HTML(value='')))"
            ]
          },
          "metadata": {},
          "output_type": "display_data"
        },
        {
          "name": "stdout",
          "output_type": "stream",
          "text": [
            "\n"
          ]
        },
        {
          "data": {
            "application/vnd.jupyter.widget-view+json": {
              "model_id": "ebcf1038023e43f2957a4d0a636fb685",
              "version_major": 2,
              "version_minor": 0
            },
            "text/plain": [
              "HBox(children=(HTML(value='Epoch'), FloatProgress(value=0.0, max=20.0), HTML(value='')))"
            ]
          },
          "metadata": {},
          "output_type": "display_data"
        },
        {
          "data": {
            "application/vnd.jupyter.widget-view+json": {
              "model_id": "",
              "version_major": 2,
              "version_minor": 0
            },
            "text/plain": [
              "HBox(children=(HTML(value='Training'), FloatProgress(value=0.0, max=1875.0), HTML(value='')))"
            ]
          },
          "metadata": {},
          "output_type": "display_data"
        },
        {
          "data": {
            "application/vnd.jupyter.widget-view+json": {
              "model_id": "",
              "version_major": 2,
              "version_minor": 0
            },
            "text/plain": [
              "HBox(children=(HTML(value='Testing'), FloatProgress(value=0.0, max=313.0), HTML(value='')))"
            ]
          },
          "metadata": {},
          "output_type": "display_data"
        },
        {
          "data": {
            "application/vnd.jupyter.widget-view+json": {
              "model_id": "",
              "version_major": 2,
              "version_minor": 0
            },
            "text/plain": [
              "HBox(children=(HTML(value='Training'), FloatProgress(value=0.0, max=1875.0), HTML(value='')))"
            ]
          },
          "metadata": {},
          "output_type": "display_data"
        },
        {
          "data": {
            "application/vnd.jupyter.widget-view+json": {
              "model_id": "",
              "version_major": 2,
              "version_minor": 0
            },
            "text/plain": [
              "HBox(children=(HTML(value='Testing'), FloatProgress(value=0.0, max=313.0), HTML(value='')))"
            ]
          },
          "metadata": {},
          "output_type": "display_data"
        },
        {
          "data": {
            "application/vnd.jupyter.widget-view+json": {
              "model_id": "",
              "version_major": 2,
              "version_minor": 0
            },
            "text/plain": [
              "HBox(children=(HTML(value='Training'), FloatProgress(value=0.0, max=1875.0), HTML(value='')))"
            ]
          },
          "metadata": {},
          "output_type": "display_data"
        },
        {
          "data": {
            "application/vnd.jupyter.widget-view+json": {
              "model_id": "",
              "version_major": 2,
              "version_minor": 0
            },
            "text/plain": [
              "HBox(children=(HTML(value='Testing'), FloatProgress(value=0.0, max=313.0), HTML(value='')))"
            ]
          },
          "metadata": {},
          "output_type": "display_data"
        },
        {
          "data": {
            "application/vnd.jupyter.widget-view+json": {
              "model_id": "",
              "version_major": 2,
              "version_minor": 0
            },
            "text/plain": [
              "HBox(children=(HTML(value='Training'), FloatProgress(value=0.0, max=1875.0), HTML(value='')))"
            ]
          },
          "metadata": {},
          "output_type": "display_data"
        },
        {
          "data": {
            "application/vnd.jupyter.widget-view+json": {
              "model_id": "",
              "version_major": 2,
              "version_minor": 0
            },
            "text/plain": [
              "HBox(children=(HTML(value='Testing'), FloatProgress(value=0.0, max=313.0), HTML(value='')))"
            ]
          },
          "metadata": {},
          "output_type": "display_data"
        },
        {
          "data": {
            "application/vnd.jupyter.widget-view+json": {
              "model_id": "",
              "version_major": 2,
              "version_minor": 0
            },
            "text/plain": [
              "HBox(children=(HTML(value='Training'), FloatProgress(value=0.0, max=1875.0), HTML(value='')))"
            ]
          },
          "metadata": {},
          "output_type": "display_data"
        },
        {
          "data": {
            "application/vnd.jupyter.widget-view+json": {
              "model_id": "",
              "version_major": 2,
              "version_minor": 0
            },
            "text/plain": [
              "HBox(children=(HTML(value='Testing'), FloatProgress(value=0.0, max=313.0), HTML(value='')))"
            ]
          },
          "metadata": {},
          "output_type": "display_data"
        },
        {
          "data": {
            "application/vnd.jupyter.widget-view+json": {
              "model_id": "",
              "version_major": 2,
              "version_minor": 0
            },
            "text/plain": [
              "HBox(children=(HTML(value='Training'), FloatProgress(value=0.0, max=1875.0), HTML(value='')))"
            ]
          },
          "metadata": {},
          "output_type": "display_data"
        },
        {
          "data": {
            "application/vnd.jupyter.widget-view+json": {
              "model_id": "",
              "version_major": 2,
              "version_minor": 0
            },
            "text/plain": [
              "HBox(children=(HTML(value='Testing'), FloatProgress(value=0.0, max=313.0), HTML(value='')))"
            ]
          },
          "metadata": {},
          "output_type": "display_data"
        },
        {
          "data": {
            "application/vnd.jupyter.widget-view+json": {
              "model_id": "",
              "version_major": 2,
              "version_minor": 0
            },
            "text/plain": [
              "HBox(children=(HTML(value='Training'), FloatProgress(value=0.0, max=1875.0), HTML(value='')))"
            ]
          },
          "metadata": {},
          "output_type": "display_data"
        },
        {
          "data": {
            "application/vnd.jupyter.widget-view+json": {
              "model_id": "",
              "version_major": 2,
              "version_minor": 0
            },
            "text/plain": [
              "HBox(children=(HTML(value='Testing'), FloatProgress(value=0.0, max=313.0), HTML(value='')))"
            ]
          },
          "metadata": {},
          "output_type": "display_data"
        },
        {
          "data": {
            "application/vnd.jupyter.widget-view+json": {
              "model_id": "",
              "version_major": 2,
              "version_minor": 0
            },
            "text/plain": [
              "HBox(children=(HTML(value='Training'), FloatProgress(value=0.0, max=1875.0), HTML(value='')))"
            ]
          },
          "metadata": {},
          "output_type": "display_data"
        },
        {
          "data": {
            "application/vnd.jupyter.widget-view+json": {
              "model_id": "",
              "version_major": 2,
              "version_minor": 0
            },
            "text/plain": [
              "HBox(children=(HTML(value='Testing'), FloatProgress(value=0.0, max=313.0), HTML(value='')))"
            ]
          },
          "metadata": {},
          "output_type": "display_data"
        },
        {
          "data": {
            "application/vnd.jupyter.widget-view+json": {
              "model_id": "",
              "version_major": 2,
              "version_minor": 0
            },
            "text/plain": [
              "HBox(children=(HTML(value='Training'), FloatProgress(value=0.0, max=1875.0), HTML(value='')))"
            ]
          },
          "metadata": {},
          "output_type": "display_data"
        },
        {
          "data": {
            "application/vnd.jupyter.widget-view+json": {
              "model_id": "",
              "version_major": 2,
              "version_minor": 0
            },
            "text/plain": [
              "HBox(children=(HTML(value='Testing'), FloatProgress(value=0.0, max=313.0), HTML(value='')))"
            ]
          },
          "metadata": {},
          "output_type": "display_data"
        },
        {
          "data": {
            "application/vnd.jupyter.widget-view+json": {
              "model_id": "",
              "version_major": 2,
              "version_minor": 0
            },
            "text/plain": [
              "HBox(children=(HTML(value='Training'), FloatProgress(value=0.0, max=1875.0), HTML(value='')))"
            ]
          },
          "metadata": {},
          "output_type": "display_data"
        },
        {
          "data": {
            "application/vnd.jupyter.widget-view+json": {
              "model_id": "",
              "version_major": 2,
              "version_minor": 0
            },
            "text/plain": [
              "HBox(children=(HTML(value='Testing'), FloatProgress(value=0.0, max=313.0), HTML(value='')))"
            ]
          },
          "metadata": {},
          "output_type": "display_data"
        },
        {
          "data": {
            "application/vnd.jupyter.widget-view+json": {
              "model_id": "",
              "version_major": 2,
              "version_minor": 0
            },
            "text/plain": [
              "HBox(children=(HTML(value='Training'), FloatProgress(value=0.0, max=1875.0), HTML(value='')))"
            ]
          },
          "metadata": {},
          "output_type": "display_data"
        },
        {
          "data": {
            "application/vnd.jupyter.widget-view+json": {
              "model_id": "",
              "version_major": 2,
              "version_minor": 0
            },
            "text/plain": [
              "HBox(children=(HTML(value='Testing'), FloatProgress(value=0.0, max=313.0), HTML(value='')))"
            ]
          },
          "metadata": {},
          "output_type": "display_data"
        },
        {
          "data": {
            "application/vnd.jupyter.widget-view+json": {
              "model_id": "",
              "version_major": 2,
              "version_minor": 0
            },
            "text/plain": [
              "HBox(children=(HTML(value='Training'), FloatProgress(value=0.0, max=1875.0), HTML(value='')))"
            ]
          },
          "metadata": {},
          "output_type": "display_data"
        },
        {
          "data": {
            "application/vnd.jupyter.widget-view+json": {
              "model_id": "",
              "version_major": 2,
              "version_minor": 0
            },
            "text/plain": [
              "HBox(children=(HTML(value='Testing'), FloatProgress(value=0.0, max=313.0), HTML(value='')))"
            ]
          },
          "metadata": {},
          "output_type": "display_data"
        },
        {
          "data": {
            "application/vnd.jupyter.widget-view+json": {
              "model_id": "",
              "version_major": 2,
              "version_minor": 0
            },
            "text/plain": [
              "HBox(children=(HTML(value='Training'), FloatProgress(value=0.0, max=1875.0), HTML(value='')))"
            ]
          },
          "metadata": {},
          "output_type": "display_data"
        },
        {
          "data": {
            "application/vnd.jupyter.widget-view+json": {
              "model_id": "",
              "version_major": 2,
              "version_minor": 0
            },
            "text/plain": [
              "HBox(children=(HTML(value='Testing'), FloatProgress(value=0.0, max=313.0), HTML(value='')))"
            ]
          },
          "metadata": {},
          "output_type": "display_data"
        },
        {
          "data": {
            "application/vnd.jupyter.widget-view+json": {
              "model_id": "",
              "version_major": 2,
              "version_minor": 0
            },
            "text/plain": [
              "HBox(children=(HTML(value='Training'), FloatProgress(value=0.0, max=1875.0), HTML(value='')))"
            ]
          },
          "metadata": {},
          "output_type": "display_data"
        },
        {
          "data": {
            "application/vnd.jupyter.widget-view+json": {
              "model_id": "",
              "version_major": 2,
              "version_minor": 0
            },
            "text/plain": [
              "HBox(children=(HTML(value='Testing'), FloatProgress(value=0.0, max=313.0), HTML(value='')))"
            ]
          },
          "metadata": {},
          "output_type": "display_data"
        },
        {
          "data": {
            "application/vnd.jupyter.widget-view+json": {
              "model_id": "",
              "version_major": 2,
              "version_minor": 0
            },
            "text/plain": [
              "HBox(children=(HTML(value='Training'), FloatProgress(value=0.0, max=1875.0), HTML(value='')))"
            ]
          },
          "metadata": {},
          "output_type": "display_data"
        },
        {
          "data": {
            "application/vnd.jupyter.widget-view+json": {
              "model_id": "",
              "version_major": 2,
              "version_minor": 0
            },
            "text/plain": [
              "HBox(children=(HTML(value='Testing'), FloatProgress(value=0.0, max=313.0), HTML(value='')))"
            ]
          },
          "metadata": {},
          "output_type": "display_data"
        },
        {
          "data": {
            "application/vnd.jupyter.widget-view+json": {
              "model_id": "",
              "version_major": 2,
              "version_minor": 0
            },
            "text/plain": [
              "HBox(children=(HTML(value='Training'), FloatProgress(value=0.0, max=1875.0), HTML(value='')))"
            ]
          },
          "metadata": {},
          "output_type": "display_data"
        },
        {
          "data": {
            "application/vnd.jupyter.widget-view+json": {
              "model_id": "",
              "version_major": 2,
              "version_minor": 0
            },
            "text/plain": [
              "HBox(children=(HTML(value='Testing'), FloatProgress(value=0.0, max=313.0), HTML(value='')))"
            ]
          },
          "metadata": {},
          "output_type": "display_data"
        },
        {
          "data": {
            "application/vnd.jupyter.widget-view+json": {
              "model_id": "",
              "version_major": 2,
              "version_minor": 0
            },
            "text/plain": [
              "HBox(children=(HTML(value='Training'), FloatProgress(value=0.0, max=1875.0), HTML(value='')))"
            ]
          },
          "metadata": {},
          "output_type": "display_data"
        },
        {
          "data": {
            "application/vnd.jupyter.widget-view+json": {
              "model_id": "",
              "version_major": 2,
              "version_minor": 0
            },
            "text/plain": [
              "HBox(children=(HTML(value='Testing'), FloatProgress(value=0.0, max=313.0), HTML(value='')))"
            ]
          },
          "metadata": {},
          "output_type": "display_data"
        },
        {
          "data": {
            "application/vnd.jupyter.widget-view+json": {
              "model_id": "",
              "version_major": 2,
              "version_minor": 0
            },
            "text/plain": [
              "HBox(children=(HTML(value='Training'), FloatProgress(value=0.0, max=1875.0), HTML(value='')))"
            ]
          },
          "metadata": {},
          "output_type": "display_data"
        },
        {
          "data": {
            "application/vnd.jupyter.widget-view+json": {
              "model_id": "",
              "version_major": 2,
              "version_minor": 0
            },
            "text/plain": [
              "HBox(children=(HTML(value='Testing'), FloatProgress(value=0.0, max=313.0), HTML(value='')))"
            ]
          },
          "metadata": {},
          "output_type": "display_data"
        },
        {
          "data": {
            "application/vnd.jupyter.widget-view+json": {
              "model_id": "",
              "version_major": 2,
              "version_minor": 0
            },
            "text/plain": [
              "HBox(children=(HTML(value='Training'), FloatProgress(value=0.0, max=1875.0), HTML(value='')))"
            ]
          },
          "metadata": {},
          "output_type": "display_data"
        },
        {
          "data": {
            "application/vnd.jupyter.widget-view+json": {
              "model_id": "",
              "version_major": 2,
              "version_minor": 0
            },
            "text/plain": [
              "HBox(children=(HTML(value='Testing'), FloatProgress(value=0.0, max=313.0), HTML(value='')))"
            ]
          },
          "metadata": {},
          "output_type": "display_data"
        },
        {
          "data": {
            "application/vnd.jupyter.widget-view+json": {
              "model_id": "",
              "version_major": 2,
              "version_minor": 0
            },
            "text/plain": [
              "HBox(children=(HTML(value='Training'), FloatProgress(value=0.0, max=1875.0), HTML(value='')))"
            ]
          },
          "metadata": {},
          "output_type": "display_data"
        },
        {
          "data": {
            "application/vnd.jupyter.widget-view+json": {
              "model_id": "",
              "version_major": 2,
              "version_minor": 0
            },
            "text/plain": [
              "HBox(children=(HTML(value='Testing'), FloatProgress(value=0.0, max=313.0), HTML(value='')))"
            ]
          },
          "metadata": {},
          "output_type": "display_data"
        },
        {
          "name": "stdout",
          "output_type": "stream",
          "text": [
            "\n"
          ]
        }
      ],
      "source": [
        "loss_func = nn.CrossEntropyLoss()\n",
        "cnn_results = train_simple_network(model_cnn, loss_func, mnist_train_loader, test_loader=mnist_test_loader, score_funcs={'Accuracy': accuracy_score}, device=device, epochs=20)\n",
        "fc_results = train_simple_network(model_linear, loss_func, mnist_train_loader, test_loader=mnist_test_loader, score_funcs={'Accuracy': accuracy_score}, device=device, epochs=20)"
      ]
    },
    {
      "cell_type": "code",
      "execution_count": null,
      "metadata": {
        "ExecuteTime": {
          "end_time": "2021-03-22T15:02:47.104806Z",
          "start_time": "2021-03-22T15:02:46.847188Z"
        },
        "id": "GSgYup-AAGV4",
        "outputId": "7571fe4f-a632-4277-d8b5-a400b008d954"
      },
      "outputs": [
        {
          "data": {
            "text/plain": [
              "<AxesSubplot:xlabel='epoch', ylabel='test Accuracy'>"
            ]
          },
          "execution_count": 20,
          "metadata": {},
          "output_type": "execute_result"
        },
        {
          "data": {
            "application/pdf": "[encoded data removed]",
            "image/png": "[encoded data removed]",
            "text/plain": [
              "<Figure size 432x288 with 1 Axes>"
            ]
          },
          "metadata": {
            "needs_background": "light"
          },
          "output_type": "display_data"
        }
      ],
      "source": [
        "sns.lineplot(x='epoch', y='test Accuracy', data=cnn_results, label='CNN')\n",
        "sns.lineplot(x='epoch', y='test Accuracy', data=fc_results, label='Fully Conected')"
      ]
    },
    {
      "cell_type": "code",
      "execution_count": null,
      "metadata": {
        "ExecuteTime": {
          "end_time": "2021-03-22T15:02:47.425221Z",
          "start_time": "2021-03-22T15:02:47.110382Z"
        },
        "max_h": 0.4,
        "id": "mO9nQW_FAGV4",
        "outputId": "269fe16f-b4f9-441b-cbf4-11eabdb9ca4a"
      },
      "outputs": [
        {
          "data": {
            "application/pdf": "[encoded data removed]",
            "image/png": "[encoded data removed]",
            "text/plain": [
              "<Figure size 432x288 with 3 Axes>"
            ]
          },
          "metadata": {
            "needs_background": "light"
          },
          "output_type": "display_data"
        }
      ],
      "source": [
        "img_indx = 0\n",
        "img, correct_class = mnist_data_train[img_indx]\n",
        "img = img[0,:]\n",
        "#move to the lower right, then upper left\n",
        "img_lr = np.roll(np.roll(img, 1, axis=1), 1, axis=0)\n",
        "img_ul = np.roll(np.roll(img, -1, axis=1), -1, axis=0)\n",
        "#plot the images\n",
        "f, axarr = plt.subplots(1,3)\n",
        "axarr[0].imshow(img, cmap='gray')\n",
        "axarr[1].imshow(img_lr, cmap='gray')\n",
        "axarr[2].imshow(img_ul, cmap='gray')\n",
        "plt.show()"
      ]
    },
    {
      "cell_type": "code",
      "execution_count": null,
      "metadata": {
        "ExecuteTime": {
          "end_time": "2021-03-22T15:02:47.430933Z",
          "start_time": "2021-03-22T15:02:47.426453Z"
        },
        "id": "gQteDgdBAGV4"
      },
      "outputs": [],
      "source": [
        "#eval mode since we are not training\n",
        "model = model_cnn.cpu().eval()\n",
        "\n",
        "def pred(model, img):\n",
        "    with torch.no_grad():#Always turn off gradients when evaluating\n",
        "        w, h = img.shape#Whats the width/height of the image\n",
        "        if not isinstance(img, torch.Tensor):\n",
        "            img = torch.tensor(img)\n",
        "        x = img.reshape(1,-1,w,h)#reshape it as (B, C, W, H)\n",
        "        logits = model(x) #Get the logits\n",
        "        y_hat = F.softmax(logits, dim=1)#Turn into probabilities\n",
        "        return y_hat.numpy().flatten()#convert prediction to numpy array."
      ]
    },
    {
      "cell_type": "markdown",
      "source": [
        "Small changes to the same input cause big changes in model confidence in the output class! We introduce pooling to try and make the model more robust to translational variance - we desire the property known as translational invariance"
      ],
      "metadata": {
        "id": "2jugdEdtcqE9"
      }
    },
    {
      "cell_type": "code",
      "execution_count": null,
      "metadata": {
        "ExecuteTime": {
          "end_time": "2021-03-22T15:02:47.449121Z",
          "start_time": "2021-03-22T15:02:47.432158Z"
        },
        "id": "mdKUIUSaAGV4",
        "outputId": "42af70e0-e9da-4ba8-fe19-73fe86bd9bc6"
      },
      "outputs": [
        {
          "name": "stdout",
          "output_type": "stream",
          "text": [
            "Org Img Class 5 Prob:          0.78159285\n",
            "Lower Right Img Class 5 Prob:  0.44280732\n",
            "Uper Left Img Class 5 Prob:    0.31534675\n"
          ]
        }
      ],
      "source": [
        "img_pred = pred(model, img)\n",
        "img_lr_pred = pred(model, img_lr)\n",
        "img_ul_pred = pred(model, img_ul)\n",
        "\n",
        "print(\"Org Img Class {} Prob:         \".format(correct_class) , img_pred[correct_class])\n",
        "print(\"Lower Right Img Class {} Prob: \".format(correct_class) , img_lr_pred[correct_class])\n",
        "print(\"Uper Left Img Class {} Prob:   \".format(correct_class) , img_ul_pred[correct_class])"
      ]
    },
    {
      "cell_type": "code",
      "execution_count": null,
      "metadata": {
        "ExecuteTime": {
          "end_time": "2021-03-22T15:09:01.336880Z",
          "start_time": "2021-03-22T15:02:47.468427Z"
        },
        "tags": [
          "remove_output"
        ],
        "colab": {
          "referenced_widgets": [
            "50d7b59432544f31a33074911796c90d",
            ""
          ]
        },
        "id": "vN24UtGZAGV4",
        "outputId": "b7917f27-c586-4f77-eda6-92e1ba55bbec"
      },
      "outputs": [
        {
          "data": {
            "application/vnd.jupyter.widget-view+json": {
              "model_id": "50d7b59432544f31a33074911796c90d",
              "version_major": 2,
              "version_minor": 0
            },
            "text/plain": [
              "HBox(children=(HTML(value='Epoch'), FloatProgress(value=0.0, max=20.0), HTML(value='')))"
            ]
          },
          "metadata": {},
          "output_type": "display_data"
        },
        {
          "data": {
            "application/vnd.jupyter.widget-view+json": {
              "model_id": "",
              "version_major": 2,
              "version_minor": 0
            },
            "text/plain": [
              "HBox(children=(HTML(value='Training'), FloatProgress(value=0.0, max=1875.0), HTML(value='')))"
            ]
          },
          "metadata": {},
          "output_type": "display_data"
        },
        {
          "data": {
            "application/vnd.jupyter.widget-view+json": {
              "model_id": "",
              "version_major": 2,
              "version_minor": 0
            },
            "text/plain": [
              "HBox(children=(HTML(value='Testing'), FloatProgress(value=0.0, max=313.0), HTML(value='')))"
            ]
          },
          "metadata": {},
          "output_type": "display_data"
        },
        {
          "data": {
            "application/vnd.jupyter.widget-view+json": {
              "model_id": "",
              "version_major": 2,
              "version_minor": 0
            },
            "text/plain": [
              "HBox(children=(HTML(value='Training'), FloatProgress(value=0.0, max=1875.0), HTML(value='')))"
            ]
          },
          "metadata": {},
          "output_type": "display_data"
        },
        {
          "data": {
            "application/vnd.jupyter.widget-view+json": {
              "model_id": "",
              "version_major": 2,
              "version_minor": 0
            },
            "text/plain": [
              "HBox(children=(HTML(value='Testing'), FloatProgress(value=0.0, max=313.0), HTML(value='')))"
            ]
          },
          "metadata": {},
          "output_type": "display_data"
        },
        {
          "data": {
            "application/vnd.jupyter.widget-view+json": {
              "model_id": "",
              "version_major": 2,
              "version_minor": 0
            },
            "text/plain": [
              "HBox(children=(HTML(value='Training'), FloatProgress(value=0.0, max=1875.0), HTML(value='')))"
            ]
          },
          "metadata": {},
          "output_type": "display_data"
        },
        {
          "data": {
            "application/vnd.jupyter.widget-view+json": {
              "model_id": "",
              "version_major": 2,
              "version_minor": 0
            },
            "text/plain": [
              "HBox(children=(HTML(value='Testing'), FloatProgress(value=0.0, max=313.0), HTML(value='')))"
            ]
          },
          "metadata": {},
          "output_type": "display_data"
        },
        {
          "data": {
            "application/vnd.jupyter.widget-view+json": {
              "model_id": "",
              "version_major": 2,
              "version_minor": 0
            },
            "text/plain": [
              "HBox(children=(HTML(value='Training'), FloatProgress(value=0.0, max=1875.0), HTML(value='')))"
            ]
          },
          "metadata": {},
          "output_type": "display_data"
        },
        {
          "data": {
            "application/vnd.jupyter.widget-view+json": {
              "model_id": "",
              "version_major": 2,
              "version_minor": 0
            },
            "text/plain": [
              "HBox(children=(HTML(value='Testing'), FloatProgress(value=0.0, max=313.0), HTML(value='')))"
            ]
          },
          "metadata": {},
          "output_type": "display_data"
        },
        {
          "data": {
            "application/vnd.jupyter.widget-view+json": {
              "model_id": "",
              "version_major": 2,
              "version_minor": 0
            },
            "text/plain": [
              "HBox(children=(HTML(value='Training'), FloatProgress(value=0.0, max=1875.0), HTML(value='')))"
            ]
          },
          "metadata": {},
          "output_type": "display_data"
        },
        {
          "data": {
            "application/vnd.jupyter.widget-view+json": {
              "model_id": "",
              "version_major": 2,
              "version_minor": 0
            },
            "text/plain": [
              "HBox(children=(HTML(value='Testing'), FloatProgress(value=0.0, max=313.0), HTML(value='')))"
            ]
          },
          "metadata": {},
          "output_type": "display_data"
        },
        {
          "data": {
            "application/vnd.jupyter.widget-view+json": {
              "model_id": "",
              "version_major": 2,
              "version_minor": 0
            },
            "text/plain": [
              "HBox(children=(HTML(value='Training'), FloatProgress(value=0.0, max=1875.0), HTML(value='')))"
            ]
          },
          "metadata": {},
          "output_type": "display_data"
        },
        {
          "data": {
            "application/vnd.jupyter.widget-view+json": {
              "model_id": "",
              "version_major": 2,
              "version_minor": 0
            },
            "text/plain": [
              "HBox(children=(HTML(value='Testing'), FloatProgress(value=0.0, max=313.0), HTML(value='')))"
            ]
          },
          "metadata": {},
          "output_type": "display_data"
        },
        {
          "data": {
            "application/vnd.jupyter.widget-view+json": {
              "model_id": "",
              "version_major": 2,
              "version_minor": 0
            },
            "text/plain": [
              "HBox(children=(HTML(value='Training'), FloatProgress(value=0.0, max=1875.0), HTML(value='')))"
            ]
          },
          "metadata": {},
          "output_type": "display_data"
        },
        {
          "data": {
            "application/vnd.jupyter.widget-view+json": {
              "model_id": "",
              "version_major": 2,
              "version_minor": 0
            },
            "text/plain": [
              "HBox(children=(HTML(value='Testing'), FloatProgress(value=0.0, max=313.0), HTML(value='')))"
            ]
          },
          "metadata": {},
          "output_type": "display_data"
        },
        {
          "data": {
            "application/vnd.jupyter.widget-view+json": {
              "model_id": "",
              "version_major": 2,
              "version_minor": 0
            },
            "text/plain": [
              "HBox(children=(HTML(value='Training'), FloatProgress(value=0.0, max=1875.0), HTML(value='')))"
            ]
          },
          "metadata": {},
          "output_type": "display_data"
        },
        {
          "data": {
            "application/vnd.jupyter.widget-view+json": {
              "model_id": "",
              "version_major": 2,
              "version_minor": 0
            },
            "text/plain": [
              "HBox(children=(HTML(value='Testing'), FloatProgress(value=0.0, max=313.0), HTML(value='')))"
            ]
          },
          "metadata": {},
          "output_type": "display_data"
        },
        {
          "data": {
            "application/vnd.jupyter.widget-view+json": {
              "model_id": "",
              "version_major": 2,
              "version_minor": 0
            },
            "text/plain": [
              "HBox(children=(HTML(value='Training'), FloatProgress(value=0.0, max=1875.0), HTML(value='')))"
            ]
          },
          "metadata": {},
          "output_type": "display_data"
        },
        {
          "data": {
            "application/vnd.jupyter.widget-view+json": {
              "model_id": "",
              "version_major": 2,
              "version_minor": 0
            },
            "text/plain": [
              "HBox(children=(HTML(value='Testing'), FloatProgress(value=0.0, max=313.0), HTML(value='')))"
            ]
          },
          "metadata": {},
          "output_type": "display_data"
        },
        {
          "data": {
            "application/vnd.jupyter.widget-view+json": {
              "model_id": "",
              "version_major": 2,
              "version_minor": 0
            },
            "text/plain": [
              "HBox(children=(HTML(value='Training'), FloatProgress(value=0.0, max=1875.0), HTML(value='')))"
            ]
          },
          "metadata": {},
          "output_type": "display_data"
        },
        {
          "data": {
            "application/vnd.jupyter.widget-view+json": {
              "model_id": "",
              "version_major": 2,
              "version_minor": 0
            },
            "text/plain": [
              "HBox(children=(HTML(value='Testing'), FloatProgress(value=0.0, max=313.0), HTML(value='')))"
            ]
          },
          "metadata": {},
          "output_type": "display_data"
        },
        {
          "data": {
            "application/vnd.jupyter.widget-view+json": {
              "model_id": "",
              "version_major": 2,
              "version_minor": 0
            },
            "text/plain": [
              "HBox(children=(HTML(value='Training'), FloatProgress(value=0.0, max=1875.0), HTML(value='')))"
            ]
          },
          "metadata": {},
          "output_type": "display_data"
        },
        {
          "data": {
            "application/vnd.jupyter.widget-view+json": {
              "model_id": "",
              "version_major": 2,
              "version_minor": 0
            },
            "text/plain": [
              "HBox(children=(HTML(value='Testing'), FloatProgress(value=0.0, max=313.0), HTML(value='')))"
            ]
          },
          "metadata": {},
          "output_type": "display_data"
        },
        {
          "data": {
            "application/vnd.jupyter.widget-view+json": {
              "model_id": "",
              "version_major": 2,
              "version_minor": 0
            },
            "text/plain": [
              "HBox(children=(HTML(value='Training'), FloatProgress(value=0.0, max=1875.0), HTML(value='')))"
            ]
          },
          "metadata": {},
          "output_type": "display_data"
        },
        {
          "data": {
            "application/vnd.jupyter.widget-view+json": {
              "model_id": "",
              "version_major": 2,
              "version_minor": 0
            },
            "text/plain": [
              "HBox(children=(HTML(value='Testing'), FloatProgress(value=0.0, max=313.0), HTML(value='')))"
            ]
          },
          "metadata": {},
          "output_type": "display_data"
        },
        {
          "data": {
            "application/vnd.jupyter.widget-view+json": {
              "model_id": "",
              "version_major": 2,
              "version_minor": 0
            },
            "text/plain": [
              "HBox(children=(HTML(value='Training'), FloatProgress(value=0.0, max=1875.0), HTML(value='')))"
            ]
          },
          "metadata": {},
          "output_type": "display_data"
        },
        {
          "data": {
            "application/vnd.jupyter.widget-view+json": {
              "model_id": "",
              "version_major": 2,
              "version_minor": 0
            },
            "text/plain": [
              "HBox(children=(HTML(value='Testing'), FloatProgress(value=0.0, max=313.0), HTML(value='')))"
            ]
          },
          "metadata": {},
          "output_type": "display_data"
        },
        {
          "data": {
            "application/vnd.jupyter.widget-view+json": {
              "model_id": "",
              "version_major": 2,
              "version_minor": 0
            },
            "text/plain": [
              "HBox(children=(HTML(value='Training'), FloatProgress(value=0.0, max=1875.0), HTML(value='')))"
            ]
          },
          "metadata": {},
          "output_type": "display_data"
        },
        {
          "data": {
            "application/vnd.jupyter.widget-view+json": {
              "model_id": "",
              "version_major": 2,
              "version_minor": 0
            },
            "text/plain": [
              "HBox(children=(HTML(value='Testing'), FloatProgress(value=0.0, max=313.0), HTML(value='')))"
            ]
          },
          "metadata": {},
          "output_type": "display_data"
        },
        {
          "data": {
            "application/vnd.jupyter.widget-view+json": {
              "model_id": "",
              "version_major": 2,
              "version_minor": 0
            },
            "text/plain": [
              "HBox(children=(HTML(value='Training'), FloatProgress(value=0.0, max=1875.0), HTML(value='')))"
            ]
          },
          "metadata": {},
          "output_type": "display_data"
        },
        {
          "data": {
            "application/vnd.jupyter.widget-view+json": {
              "model_id": "",
              "version_major": 2,
              "version_minor": 0
            },
            "text/plain": [
              "HBox(children=(HTML(value='Testing'), FloatProgress(value=0.0, max=313.0), HTML(value='')))"
            ]
          },
          "metadata": {},
          "output_type": "display_data"
        },
        {
          "data": {
            "application/vnd.jupyter.widget-view+json": {
              "model_id": "",
              "version_major": 2,
              "version_minor": 0
            },
            "text/plain": [
              "HBox(children=(HTML(value='Training'), FloatProgress(value=0.0, max=1875.0), HTML(value='')))"
            ]
          },
          "metadata": {},
          "output_type": "display_data"
        },
        {
          "data": {
            "application/vnd.jupyter.widget-view+json": {
              "model_id": "",
              "version_major": 2,
              "version_minor": 0
            },
            "text/plain": [
              "HBox(children=(HTML(value='Testing'), FloatProgress(value=0.0, max=313.0), HTML(value='')))"
            ]
          },
          "metadata": {},
          "output_type": "display_data"
        },
        {
          "data": {
            "application/vnd.jupyter.widget-view+json": {
              "model_id": "",
              "version_major": 2,
              "version_minor": 0
            },
            "text/plain": [
              "HBox(children=(HTML(value='Training'), FloatProgress(value=0.0, max=1875.0), HTML(value='')))"
            ]
          },
          "metadata": {},
          "output_type": "display_data"
        },
        {
          "data": {
            "application/vnd.jupyter.widget-view+json": {
              "model_id": "",
              "version_major": 2,
              "version_minor": 0
            },
            "text/plain": [
              "HBox(children=(HTML(value='Testing'), FloatProgress(value=0.0, max=313.0), HTML(value='')))"
            ]
          },
          "metadata": {},
          "output_type": "display_data"
        },
        {
          "data": {
            "application/vnd.jupyter.widget-view+json": {
              "model_id": "",
              "version_major": 2,
              "version_minor": 0
            },
            "text/plain": [
              "HBox(children=(HTML(value='Training'), FloatProgress(value=0.0, max=1875.0), HTML(value='')))"
            ]
          },
          "metadata": {},
          "output_type": "display_data"
        },
        {
          "data": {
            "application/vnd.jupyter.widget-view+json": {
              "model_id": "",
              "version_major": 2,
              "version_minor": 0
            },
            "text/plain": [
              "HBox(children=(HTML(value='Testing'), FloatProgress(value=0.0, max=313.0), HTML(value='')))"
            ]
          },
          "metadata": {},
          "output_type": "display_data"
        },
        {
          "data": {
            "application/vnd.jupyter.widget-view+json": {
              "model_id": "",
              "version_major": 2,
              "version_minor": 0
            },
            "text/plain": [
              "HBox(children=(HTML(value='Training'), FloatProgress(value=0.0, max=1875.0), HTML(value='')))"
            ]
          },
          "metadata": {},
          "output_type": "display_data"
        },
        {
          "data": {
            "application/vnd.jupyter.widget-view+json": {
              "model_id": "",
              "version_major": 2,
              "version_minor": 0
            },
            "text/plain": [
              "HBox(children=(HTML(value='Testing'), FloatProgress(value=0.0, max=313.0), HTML(value='')))"
            ]
          },
          "metadata": {},
          "output_type": "display_data"
        },
        {
          "data": {
            "application/vnd.jupyter.widget-view+json": {
              "model_id": "",
              "version_major": 2,
              "version_minor": 0
            },
            "text/plain": [
              "HBox(children=(HTML(value='Training'), FloatProgress(value=0.0, max=1875.0), HTML(value='')))"
            ]
          },
          "metadata": {},
          "output_type": "display_data"
        },
        {
          "data": {
            "application/vnd.jupyter.widget-view+json": {
              "model_id": "",
              "version_major": 2,
              "version_minor": 0
            },
            "text/plain": [
              "HBox(children=(HTML(value='Testing'), FloatProgress(value=0.0, max=313.0), HTML(value='')))"
            ]
          },
          "metadata": {},
          "output_type": "display_data"
        },
        {
          "name": "stdout",
          "output_type": "stream",
          "text": [
            "\n"
          ]
        }
      ],
      "source": [
        "model_cnn_pool = nn.Sequential(\n",
        "  nn.Conv2d(C, filters, 3, padding=3//2),\n",
        "  nn.Tanh(),\n",
        "  nn.Conv2d(filters, filters, 3, padding=3//2),\n",
        "  nn.Tanh(),\n",
        "  nn.Conv2d(filters, filters, 3, padding=3//2),\n",
        "  nn.Tanh(),\n",
        "  nn.MaxPool2d(2),\n",
        "  nn.Conv2d(filters, 2*filters, 3, padding=3//2),\n",
        "  nn.Tanh(),\n",
        "  nn.Conv2d(2*filters, 2*filters, 3, padding=3//2),\n",
        "  nn.Tanh(),\n",
        "  nn.Conv2d(2*filters, 2*filters, 3, padding=3//2),\n",
        "  nn.Tanh(),\n",
        "  nn.MaxPool2d(2),\n",
        "\n",
        "  nn.Flatten(),\n",
        "  #Why did we reduce the number of units into the Linear layer by a factor of $4^2$? Because pooling a 2x2 grid down to one value means we go from 4 values, down to 1, and we did this two times.\n",
        "  nn.Linear(2*filters*D//(4**2), classes),\n",
        ")\n",
        "\n",
        "cnn_results_with_pool = train_simple_network(model_cnn_pool, loss_func, mnist_train_loader, test_loader=mnist_test_loader, score_funcs={'Accuracy': accuracy_score}, device=device, epochs=20)"
      ]
    },
    {
      "cell_type": "code",
      "execution_count": null,
      "metadata": {
        "ExecuteTime": {
          "end_time": "2021-03-22T15:09:01.353894Z",
          "start_time": "2021-03-22T15:09:01.338110Z"
        },
        "id": "ITseWLp7AGV5",
        "outputId": "0cbe12e6-345f-4732-b7ee-65074b4b73a7"
      },
      "outputs": [
        {
          "name": "stdout",
          "output_type": "stream",
          "text": [
            "Org Img Class 5 Prob:          0.7068047\n",
            "Lower Right Img Class 5 Prob:  0.71668524\n",
            "Uper Left Img Class 5 Prob:    0.7311974\n"
          ]
        }
      ],
      "source": [
        "model = model_cnn_pool.cpu().eval()\n",
        "img_pred = pred(model, img)\n",
        "img_lr_pred = pred(model, img_lr)\n",
        "img_ul_pred = pred(model, img_ul)\n",
        "\n",
        "print(\"Org Img Class {} Prob:         \".format(correct_class) , img_pred[correct_class])\n",
        "print(\"Lower Right Img Class {} Prob: \".format(correct_class) , img_lr_pred[correct_class])\n",
        "print(\"Uper Left Img Class {} Prob:   \".format(correct_class) , img_ul_pred[correct_class])"
      ]
    },
    {
      "cell_type": "code",
      "execution_count": null,
      "metadata": {
        "ExecuteTime": {
          "end_time": "2021-03-22T15:09:01.598559Z",
          "start_time": "2021-03-22T15:09:01.355242Z"
        },
        "id": "eDPOGdBVAGV5",
        "outputId": "430840e2-f637-435a-99a1-87458fd31a7b"
      },
      "outputs": [
        {
          "data": {
            "text/plain": [
              "<AxesSubplot:xlabel='epoch', ylabel='test Accuracy'>"
            ]
          },
          "execution_count": 27,
          "metadata": {},
          "output_type": "execute_result"
        },
        {
          "data": {
            "application/pdf": "[encoded data removed]",
            "image/png": "[encoded data removed]",
            "text/plain": [
              "<Figure size 432x288 with 1 Axes>"
            ]
          },
          "metadata": {
            "needs_background": "light"
          },
          "output_type": "display_data"
        }
      ],
      "source": [
        "sns.lineplot(x='epoch', y='test Accuracy', data=cnn_results, label='Simple CNN')\n",
        "sns.lineplot(x='epoch', y='test Accuracy', data=cnn_results_with_pool, label='CNN w/ Max Pooling')"
      ]
    },
    {
      "cell_type": "markdown",
      "source": [
        "In addition to pooling, we can augment data with random transformations."
      ],
      "metadata": {
        "id": "O3G0gjc7dqhk"
      }
    },
    {
      "cell_type": "code",
      "execution_count": null,
      "metadata": {
        "ExecuteTime": {
          "end_time": "2021-03-22T15:09:02.472082Z",
          "start_time": "2021-03-22T15:09:01.599867Z"
        },
        "id": "90ePfIsvAGV5",
        "outputId": "3efdc483-9045-4b2c-cd5e-a1284eecfccf"
      },
      "outputs": [
        {
          "data": {
            "application/pdf": "[encoded data removed]",
            "image/png": "[encoded data removed]",
            "text/plain": [
              "<Figure size 432x288 with 8 Axes>"
            ]
          },
          "metadata": {
            "needs_background": "light"
          },
          "output_type": "display_data"
        }
      ],
      "source": [
        "#Several built-in transformations, given some agressive values to make their impact more obvious.\n",
        "sample_transforms = {\n",
        "    \"Rotation\" : transforms.RandomAffine(degrees=45),\n",
        "    \"Translation\" : transforms.RandomAffine(degrees=0, translate=(0.1,0.1)),\n",
        "    \"Shear\": transforms.RandomAffine(degrees=0, shear=45),\n",
        "    \"RandomCrop\" : transforms.RandomCrop((20,20)),\n",
        "    \"Horizontal Flip\" : transforms.RandomHorizontalFlip(p=1.0),\n",
        "    \"Vertical Flip\": transforms.RandomVerticalFlip(p=1.0),\n",
        "    \"Perspective\": transforms.RandomPerspective(p=1.0),\n",
        "    \"ColorJitter\" : transforms.ColorJitter(brightness=0.9, contrast=0.9)\n",
        "}\n",
        "#Convert the Tensor image back to a PIL image using a transform\n",
        "pil_img = transforms.ToPILImage()(img)\n",
        "#Plot a randomy application of each transform\n",
        "f, axarr = plt.subplots(2,4)\n",
        "for count, (name, t) in enumerate(sample_transforms.items()):\n",
        "    row = count % 4\n",
        "    col = count // 4\n",
        "    axarr[col,row].imshow(t(pil_img), cmap='gray')\n",
        "    axarr[col,row].set_title(name)\n",
        "plt.show()"
      ]
    },
    {
      "cell_type": "markdown",
      "source": [
        "num_workers controls how many threads are used to preload batches of data for training. CPU processes the image while GPU processes the data."
      ],
      "metadata": {
        "id": "sxrF7EvidDyH"
      }
    },
    {
      "cell_type": "code",
      "execution_count": null,
      "metadata": {
        "ExecuteTime": {
          "end_time": "2021-03-22T15:09:02.499210Z",
          "start_time": "2021-03-22T15:09:02.473350Z"
        },
        "id": "Dn1iYo1uAGV6"
      },
      "outputs": [],
      "source": [
        "train_transform = transforms.Compose([\n",
        "    transforms.RandomAffine(degrees=5, translate=(0.05, 0.05), scale=(0.98, 1.02)),\n",
        "    transforms.ToTensor(),\n",
        "])\n",
        "\n",
        "test_transform = transforms.ToTensor()\n",
        "\n",
        "mnist_train_t = torchvision.datasets.MNIST(\"./data\", train=True, transform=train_transform)\n",
        "mnist_test_t = torchvision.datasets.MNIST(\"./data\", train=False, transform=test_transform)\n",
        "mnist_train_loader_t = DataLoader(mnist_train_t, shuffle=True,  batch_size=B, num_workers=5)\n",
        "mnist_test_loader_t = DataLoader(mnist_test_t, batch_size=B, num_workers=5)"
      ]
    },
    {
      "cell_type": "code",
      "execution_count": null,
      "metadata": {
        "ExecuteTime": {
          "end_time": "2021-03-22T15:13:44.875053Z",
          "start_time": "2021-03-22T15:09:02.500926Z"
        },
        "tags": [
          "remove_output"
        ],
        "colab": {
          "referenced_widgets": [
            "5fab06dbe8264247838ea9f2098ca6ee",
            ""
          ]
        },
        "id": "xGSZvNV4AGV6",
        "outputId": "0e9c8357-ecff-4cf5-d647-3a07a10389fd"
      },
      "outputs": [
        {
          "data": {
            "application/vnd.jupyter.widget-view+json": {
              "model_id": "5fab06dbe8264247838ea9f2098ca6ee",
              "version_major": 2,
              "version_minor": 0
            },
            "text/plain": [
              "HBox(children=(HTML(value='Epoch'), FloatProgress(value=0.0, max=20.0), HTML(value='')))"
            ]
          },
          "metadata": {},
          "output_type": "display_data"
        },
        {
          "data": {
            "application/vnd.jupyter.widget-view+json": {
              "model_id": "",
              "version_major": 2,
              "version_minor": 0
            },
            "text/plain": [
              "HBox(children=(HTML(value='Training'), FloatProgress(value=0.0, max=1875.0), HTML(value='')))"
            ]
          },
          "metadata": {},
          "output_type": "display_data"
        },
        {
          "data": {
            "application/vnd.jupyter.widget-view+json": {
              "model_id": "",
              "version_major": 2,
              "version_minor": 0
            },
            "text/plain": [
              "HBox(children=(HTML(value='Testing'), FloatProgress(value=0.0, max=313.0), HTML(value='')))"
            ]
          },
          "metadata": {},
          "output_type": "display_data"
        },
        {
          "data": {
            "application/vnd.jupyter.widget-view+json": {
              "model_id": "",
              "version_major": 2,
              "version_minor": 0
            },
            "text/plain": [
              "HBox(children=(HTML(value='Training'), FloatProgress(value=0.0, max=1875.0), HTML(value='')))"
            ]
          },
          "metadata": {},
          "output_type": "display_data"
        },
        {
          "data": {
            "application/vnd.jupyter.widget-view+json": {
              "model_id": "",
              "version_major": 2,
              "version_minor": 0
            },
            "text/plain": [
              "HBox(children=(HTML(value='Testing'), FloatProgress(value=0.0, max=313.0), HTML(value='')))"
            ]
          },
          "metadata": {},
          "output_type": "display_data"
        },
        {
          "data": {
            "application/vnd.jupyter.widget-view+json": {
              "model_id": "",
              "version_major": 2,
              "version_minor": 0
            },
            "text/plain": [
              "HBox(children=(HTML(value='Training'), FloatProgress(value=0.0, max=1875.0), HTML(value='')))"
            ]
          },
          "metadata": {},
          "output_type": "display_data"
        },
        {
          "data": {
            "application/vnd.jupyter.widget-view+json": {
              "model_id": "",
              "version_major": 2,
              "version_minor": 0
            },
            "text/plain": [
              "HBox(children=(HTML(value='Testing'), FloatProgress(value=0.0, max=313.0), HTML(value='')))"
            ]
          },
          "metadata": {},
          "output_type": "display_data"
        },
        {
          "data": {
            "application/vnd.jupyter.widget-view+json": {
              "model_id": "",
              "version_major": 2,
              "version_minor": 0
            },
            "text/plain": [
              "HBox(children=(HTML(value='Training'), FloatProgress(value=0.0, max=1875.0), HTML(value='')))"
            ]
          },
          "metadata": {},
          "output_type": "display_data"
        },
        {
          "data": {
            "application/vnd.jupyter.widget-view+json": {
              "model_id": "",
              "version_major": 2,
              "version_minor": 0
            },
            "text/plain": [
              "HBox(children=(HTML(value='Testing'), FloatProgress(value=0.0, max=313.0), HTML(value='')))"
            ]
          },
          "metadata": {},
          "output_type": "display_data"
        },
        {
          "data": {
            "application/vnd.jupyter.widget-view+json": {
              "model_id": "",
              "version_major": 2,
              "version_minor": 0
            },
            "text/plain": [
              "HBox(children=(HTML(value='Training'), FloatProgress(value=0.0, max=1875.0), HTML(value='')))"
            ]
          },
          "metadata": {},
          "output_type": "display_data"
        },
        {
          "data": {
            "application/vnd.jupyter.widget-view+json": {
              "model_id": "",
              "version_major": 2,
              "version_minor": 0
            },
            "text/plain": [
              "HBox(children=(HTML(value='Testing'), FloatProgress(value=0.0, max=313.0), HTML(value='')))"
            ]
          },
          "metadata": {},
          "output_type": "display_data"
        },
        {
          "data": {
            "application/vnd.jupyter.widget-view+json": {
              "model_id": "",
              "version_major": 2,
              "version_minor": 0
            },
            "text/plain": [
              "HBox(children=(HTML(value='Training'), FloatProgress(value=0.0, max=1875.0), HTML(value='')))"
            ]
          },
          "metadata": {},
          "output_type": "display_data"
        },
        {
          "data": {
            "application/vnd.jupyter.widget-view+json": {
              "model_id": "",
              "version_major": 2,
              "version_minor": 0
            },
            "text/plain": [
              "HBox(children=(HTML(value='Testing'), FloatProgress(value=0.0, max=313.0), HTML(value='')))"
            ]
          },
          "metadata": {},
          "output_type": "display_data"
        },
        {
          "data": {
            "application/vnd.jupyter.widget-view+json": {
              "model_id": "",
              "version_major": 2,
              "version_minor": 0
            },
            "text/plain": [
              "HBox(children=(HTML(value='Training'), FloatProgress(value=0.0, max=1875.0), HTML(value='')))"
            ]
          },
          "metadata": {},
          "output_type": "display_data"
        },
        {
          "data": {
            "application/vnd.jupyter.widget-view+json": {
              "model_id": "",
              "version_major": 2,
              "version_minor": 0
            },
            "text/plain": [
              "HBox(children=(HTML(value='Testing'), FloatProgress(value=0.0, max=313.0), HTML(value='')))"
            ]
          },
          "metadata": {},
          "output_type": "display_data"
        },
        {
          "data": {
            "application/vnd.jupyter.widget-view+json": {
              "model_id": "",
              "version_major": 2,
              "version_minor": 0
            },
            "text/plain": [
              "HBox(children=(HTML(value='Training'), FloatProgress(value=0.0, max=1875.0), HTML(value='')))"
            ]
          },
          "metadata": {},
          "output_type": "display_data"
        },
        {
          "data": {
            "application/vnd.jupyter.widget-view+json": {
              "model_id": "",
              "version_major": 2,
              "version_minor": 0
            },
            "text/plain": [
              "HBox(children=(HTML(value='Testing'), FloatProgress(value=0.0, max=313.0), HTML(value='')))"
            ]
          },
          "metadata": {},
          "output_type": "display_data"
        },
        {
          "data": {
            "application/vnd.jupyter.widget-view+json": {
              "model_id": "",
              "version_major": 2,
              "version_minor": 0
            },
            "text/plain": [
              "HBox(children=(HTML(value='Training'), FloatProgress(value=0.0, max=1875.0), HTML(value='')))"
            ]
          },
          "metadata": {},
          "output_type": "display_data"
        },
        {
          "data": {
            "application/vnd.jupyter.widget-view+json": {
              "model_id": "",
              "version_major": 2,
              "version_minor": 0
            },
            "text/plain": [
              "HBox(children=(HTML(value='Testing'), FloatProgress(value=0.0, max=313.0), HTML(value='')))"
            ]
          },
          "metadata": {},
          "output_type": "display_data"
        },
        {
          "data": {
            "application/vnd.jupyter.widget-view+json": {
              "model_id": "",
              "version_major": 2,
              "version_minor": 0
            },
            "text/plain": [
              "HBox(children=(HTML(value='Training'), FloatProgress(value=0.0, max=1875.0), HTML(value='')))"
            ]
          },
          "metadata": {},
          "output_type": "display_data"
        },
        {
          "data": {
            "application/vnd.jupyter.widget-view+json": {
              "model_id": "",
              "version_major": 2,
              "version_minor": 0
            },
            "text/plain": [
              "HBox(children=(HTML(value='Testing'), FloatProgress(value=0.0, max=313.0), HTML(value='')))"
            ]
          },
          "metadata": {},
          "output_type": "display_data"
        },
        {
          "data": {
            "application/vnd.jupyter.widget-view+json": {
              "model_id": "",
              "version_major": 2,
              "version_minor": 0
            },
            "text/plain": [
              "HBox(children=(HTML(value='Training'), FloatProgress(value=0.0, max=1875.0), HTML(value='')))"
            ]
          },
          "metadata": {},
          "output_type": "display_data"
        },
        {
          "data": {
            "application/vnd.jupyter.widget-view+json": {
              "model_id": "",
              "version_major": 2,
              "version_minor": 0
            },
            "text/plain": [
              "HBox(children=(HTML(value='Testing'), FloatProgress(value=0.0, max=313.0), HTML(value='')))"
            ]
          },
          "metadata": {},
          "output_type": "display_data"
        },
        {
          "data": {
            "application/vnd.jupyter.widget-view+json": {
              "model_id": "",
              "version_major": 2,
              "version_minor": 0
            },
            "text/plain": [
              "HBox(children=(HTML(value='Training'), FloatProgress(value=0.0, max=1875.0), HTML(value='')))"
            ]
          },
          "metadata": {},
          "output_type": "display_data"
        },
        {
          "data": {
            "application/vnd.jupyter.widget-view+json": {
              "model_id": "",
              "version_major": 2,
              "version_minor": 0
            },
            "text/plain": [
              "HBox(children=(HTML(value='Testing'), FloatProgress(value=0.0, max=313.0), HTML(value='')))"
            ]
          },
          "metadata": {},
          "output_type": "display_data"
        },
        {
          "data": {
            "application/vnd.jupyter.widget-view+json": {
              "model_id": "",
              "version_major": 2,
              "version_minor": 0
            },
            "text/plain": [
              "HBox(children=(HTML(value='Training'), FloatProgress(value=0.0, max=1875.0), HTML(value='')))"
            ]
          },
          "metadata": {},
          "output_type": "display_data"
        },
        {
          "data": {
            "application/vnd.jupyter.widget-view+json": {
              "model_id": "",
              "version_major": 2,
              "version_minor": 0
            },
            "text/plain": [
              "HBox(children=(HTML(value='Testing'), FloatProgress(value=0.0, max=313.0), HTML(value='')))"
            ]
          },
          "metadata": {},
          "output_type": "display_data"
        },
        {
          "data": {
            "application/vnd.jupyter.widget-view+json": {
              "model_id": "",
              "version_major": 2,
              "version_minor": 0
            },
            "text/plain": [
              "HBox(children=(HTML(value='Training'), FloatProgress(value=0.0, max=1875.0), HTML(value='')))"
            ]
          },
          "metadata": {},
          "output_type": "display_data"
        },
        {
          "data": {
            "application/vnd.jupyter.widget-view+json": {
              "model_id": "",
              "version_major": 2,
              "version_minor": 0
            },
            "text/plain": [
              "HBox(children=(HTML(value='Testing'), FloatProgress(value=0.0, max=313.0), HTML(value='')))"
            ]
          },
          "metadata": {},
          "output_type": "display_data"
        },
        {
          "data": {
            "application/vnd.jupyter.widget-view+json": {
              "model_id": "",
              "version_major": 2,
              "version_minor": 0
            },
            "text/plain": [
              "HBox(children=(HTML(value='Training'), FloatProgress(value=0.0, max=1875.0), HTML(value='')))"
            ]
          },
          "metadata": {},
          "output_type": "display_data"
        },
        {
          "data": {
            "application/vnd.jupyter.widget-view+json": {
              "model_id": "",
              "version_major": 2,
              "version_minor": 0
            },
            "text/plain": [
              "HBox(children=(HTML(value='Testing'), FloatProgress(value=0.0, max=313.0), HTML(value='')))"
            ]
          },
          "metadata": {},
          "output_type": "display_data"
        },
        {
          "data": {
            "application/vnd.jupyter.widget-view+json": {
              "model_id": "",
              "version_major": 2,
              "version_minor": 0
            },
            "text/plain": [
              "HBox(children=(HTML(value='Training'), FloatProgress(value=0.0, max=1875.0), HTML(value='')))"
            ]
          },
          "metadata": {},
          "output_type": "display_data"
        },
        {
          "data": {
            "application/vnd.jupyter.widget-view+json": {
              "model_id": "",
              "version_major": 2,
              "version_minor": 0
            },
            "text/plain": [
              "HBox(children=(HTML(value='Testing'), FloatProgress(value=0.0, max=313.0), HTML(value='')))"
            ]
          },
          "metadata": {},
          "output_type": "display_data"
        },
        {
          "data": {
            "application/vnd.jupyter.widget-view+json": {
              "model_id": "",
              "version_major": 2,
              "version_minor": 0
            },
            "text/plain": [
              "HBox(children=(HTML(value='Training'), FloatProgress(value=0.0, max=1875.0), HTML(value='')))"
            ]
          },
          "metadata": {},
          "output_type": "display_data"
        },
        {
          "data": {
            "application/vnd.jupyter.widget-view+json": {
              "model_id": "",
              "version_major": 2,
              "version_minor": 0
            },
            "text/plain": [
              "HBox(children=(HTML(value='Testing'), FloatProgress(value=0.0, max=313.0), HTML(value='')))"
            ]
          },
          "metadata": {},
          "output_type": "display_data"
        },
        {
          "data": {
            "application/vnd.jupyter.widget-view+json": {
              "model_id": "",
              "version_major": 2,
              "version_minor": 0
            },
            "text/plain": [
              "HBox(children=(HTML(value='Training'), FloatProgress(value=0.0, max=1875.0), HTML(value='')))"
            ]
          },
          "metadata": {},
          "output_type": "display_data"
        },
        {
          "data": {
            "application/vnd.jupyter.widget-view+json": {
              "model_id": "",
              "version_major": 2,
              "version_minor": 0
            },
            "text/plain": [
              "HBox(children=(HTML(value='Testing'), FloatProgress(value=0.0, max=313.0), HTML(value='')))"
            ]
          },
          "metadata": {},
          "output_type": "display_data"
        },
        {
          "data": {
            "application/vnd.jupyter.widget-view+json": {
              "model_id": "",
              "version_major": 2,
              "version_minor": 0
            },
            "text/plain": [
              "HBox(children=(HTML(value='Training'), FloatProgress(value=0.0, max=1875.0), HTML(value='')))"
            ]
          },
          "metadata": {},
          "output_type": "display_data"
        },
        {
          "data": {
            "application/vnd.jupyter.widget-view+json": {
              "model_id": "",
              "version_major": 2,
              "version_minor": 0
            },
            "text/plain": [
              "HBox(children=(HTML(value='Testing'), FloatProgress(value=0.0, max=313.0), HTML(value='')))"
            ]
          },
          "metadata": {},
          "output_type": "display_data"
        },
        {
          "data": {
            "application/vnd.jupyter.widget-view+json": {
              "model_id": "",
              "version_major": 2,
              "version_minor": 0
            },
            "text/plain": [
              "HBox(children=(HTML(value='Training'), FloatProgress(value=0.0, max=1875.0), HTML(value='')))"
            ]
          },
          "metadata": {},
          "output_type": "display_data"
        },
        {
          "data": {
            "application/vnd.jupyter.widget-view+json": {
              "model_id": "",
              "version_major": 2,
              "version_minor": 0
            },
            "text/plain": [
              "HBox(children=(HTML(value='Testing'), FloatProgress(value=0.0, max=313.0), HTML(value='')))"
            ]
          },
          "metadata": {},
          "output_type": "display_data"
        },
        {
          "name": "stdout",
          "output_type": "stream",
          "text": [
            "\n"
          ]
        }
      ],
      "source": [
        "model_cnn_pool = nn.Sequential(\n",
        "  nn.Conv2d(C, filters, 3, padding=3//2),\n",
        "  nn.Tanh(),\n",
        "  nn.Conv2d(filters, filters, 3, padding=3//2),\n",
        "  nn.Tanh(),\n",
        "  nn.Conv2d(filters, filters, 3, padding=3//2),\n",
        "  nn.Tanh(),\n",
        "  nn.MaxPool2d(2),\n",
        "  nn.Conv2d(filters, 2*filters, 3, padding=3//2),\n",
        "  nn.Tanh(),\n",
        "  nn.Conv2d(2*filters, 2*filters, 3, padding=3//2),\n",
        "  nn.Tanh(),\n",
        "  nn.Conv2d(2*filters, 2*filters, 3, padding=3//2),\n",
        "  nn.Tanh(),\n",
        "  nn.MaxPool2d(2),\n",
        "  nn.Flatten(),\n",
        "  nn.Linear(2*filters*D//(4**2), classes),\n",
        ")\n",
        "\n",
        "cnn_results_with_pool_augmented = train_simple_network(model_cnn_pool, loss_func, mnist_train_loader_t, test_loader=mnist_test_loader_t, score_funcs={'Accuracy': accuracy_score}, device=device, epochs=20)"
      ]
    },
    {
      "cell_type": "code",
      "execution_count": null,
      "metadata": {
        "ExecuteTime": {
          "end_time": "2021-03-22T15:13:45.117991Z",
          "start_time": "2021-03-22T15:13:44.876560Z"
        },
        "id": "hELGaYVZAGV6",
        "outputId": "a0871539-4365-47e2-92db-8761e7f9d853"
      },
      "outputs": [
        {
          "data": {
            "text/plain": [
              "<AxesSubplot:xlabel='epoch', ylabel='test Accuracy'>"
            ]
          },
          "execution_count": 31,
          "metadata": {},
          "output_type": "execute_result"
        },
        {
          "data": {
            "application/pdf": "[encoded data removed]",
            "image/png": "[encoded data removed]",
            "text/plain": [
              "<Figure size 432x288 with 1 Axes>"
            ]
          },
          "metadata": {
            "needs_background": "light"
          },
          "output_type": "display_data"
        }
      ],
      "source": [
        "sns.lineplot(x='epoch', y='test Accuracy', data=cnn_results_with_pool, label='CNN w/ Max Pooling')\n",
        "sns.lineplot(x='epoch', y='test Accuracy', data=cnn_results_with_pool_augmented, label='CNN w/ Max Pooling + Augmentation')"
      ]
    }
  ],
  "metadata": {
    "celltoolbar": "Tags",
    "kernelspec": {
      "display_name": "Python 3",
      "language": "python",
      "name": "python3"
    },
    "language_info": {
      "codemirror_mode": {
        "name": "ipython",
        "version": 3
      },
      "file_extension": ".py",
      "mimetype": "text/x-python",
      "name": "python",
      "nbconvert_exporter": "python",
      "pygments_lexer": "ipython3",
      "version": "3.7.9"
    },
    "latex_envs": {
      "LaTeX_envs_menu_present": true,
      "autoclose": false,
      "autocomplete": false,
      "bibliofile": "biblio.bib",
      "cite_by": "apalike",
      "current_citInitial": 1,
      "eqLabelWithNumbers": false,
      "eqNumInitial": 1,
      "hotkeys": {
        "equation": "Ctrl-E",
        "itemize": "Ctrl-I"
      },
      "labels_anchors": false,
      "latex_user_defs": false,
      "report_style_numbering": false,
      "user_envs_cfg": false
    },
    "latex_metadata": {
      "title": "Convolutional Neural Networks"
    },
    "varInspector": {
      "cols": {
        "lenName": 16,
        "lenType": 16,
        "lenVar": 40
      },
      "kernels_config": {
        "python": {
          "delete_cmd_postfix": "",
          "delete_cmd_prefix": "del ",
          "library": "var_list.py",
          "varRefreshCmd": "print(var_dic_list())"
        },
        "r": {
          "delete_cmd_postfix": ") ",
          "delete_cmd_prefix": "rm(",
          "library": "var_list.r",
          "varRefreshCmd": "cat(var_dic_list()) "
        }
      },
      "types_to_exclude": [
        "module",
        "function",
        "builtin_function_or_method",
        "instance",
        "_Feature"
      ],
      "window_display": false
    },
    "colab": {
      "provenance": []
    }
  },
  "nbformat": 4,
  "nbformat_minor": 0
}