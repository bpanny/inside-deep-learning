{
  "cells": [
    {
      "cell_type": "code",
      "execution_count": 2,
      "metadata": {
        "ExecuteTime": {
          "end_time": "2021-03-22T05:32:54.107372Z",
          "start_time": "2021-03-22T05:32:53.400242Z"
        },
        "tags": [
          "remove_output"
        ],
        "colab": {
          "base_uri": "https://localhost:8080/"
        },
        "id": "Suk-3Z7OY_VZ",
        "outputId": "60e16d70-48de-4f99-e14b-b6feeaee4b12"
      },
      "outputs": [
        {
          "output_type": "stream",
          "name": "stderr",
          "text": [
            "<ipython-input-2-93e2626d8a4a>:4: TqdmExperimentalWarning: Using `tqdm.autonotebook.tqdm` in notebook mode. Use `tqdm.tqdm` instead to force console mode (e.g. in jupyter console)\n",
            "  from tqdm.autonotebook import tqdm\n"
          ]
        }
      ],
      "source": [
        "import seaborn as sns\n",
        "import matplotlib.pyplot as plt\n",
        "import numpy as np\n",
        "from tqdm.autonotebook import tqdm\n",
        "import pandas as pd"
      ]
    },
    {
      "cell_type": "code",
      "execution_count": 3,
      "metadata": {
        "ExecuteTime": {
          "end_time": "2021-03-22T05:32:54.114216Z",
          "start_time": "2021-03-22T05:32:54.109474Z"
        },
        "tags": [
          "remove_cell"
        ],
        "colab": {
          "base_uri": "https://localhost:8080/"
        },
        "id": "ZGF_Eu0TY_VZ",
        "outputId": "8fb7ecbf-f710-485f-d7b1-ee01f059797c"
      },
      "outputs": [
        {
          "output_type": "stream",
          "name": "stderr",
          "text": [
            "<ipython-input-3-475911aa0aa9>:3: DeprecationWarning: `set_matplotlib_formats` is deprecated since IPython 7.23, directly use `matplotlib_inline.backend_inline.set_matplotlib_formats()`\n",
            "  set_matplotlib_formats('png', 'pdf')\n"
          ]
        }
      ],
      "source": [
        "%matplotlib inline\n",
        "from IPython.display import set_matplotlib_formats\n",
        "set_matplotlib_formats('png', 'pdf')"
      ]
    },
    {
      "cell_type": "code",
      "execution_count": 4,
      "metadata": {
        "ExecuteTime": {
          "end_time": "2021-03-22T05:32:54.669963Z",
          "start_time": "2021-03-22T05:32:54.116147Z"
        },
        "id": "mP24lO8MY_Va"
      },
      "outputs": [],
      "source": [
        "import torch"
      ]
    },
    {
      "cell_type": "code",
      "execution_count": 5,
      "metadata": {
        "ExecuteTime": {
          "end_time": "2021-03-22T05:32:54.676062Z",
          "start_time": "2021-03-22T05:32:54.671481Z"
        },
        "id": "EG5MY-f8Y_Va"
      },
      "outputs": [],
      "source": [
        "torch_scalar = torch.tensor(3.14)\n",
        "torch_vector = torch.tensor([1, 2, 3, 4])\n",
        "torch_matrix = torch.tensor([[1, 2,],\n",
        "                             [3, 4,],\n",
        "                             [5, 6,],\n",
        "                             [7, 8,]])\n",
        "#You don't have to format it like I did, thats just for clarity\n",
        "torch_tensor3d = torch.tensor([\n",
        "                            [\n",
        "                            [ 1,  2,  3],\n",
        "                            [ 4,  5,  6],\n",
        "                            ],\n",
        "                            [\n",
        "                            [ 7,  8,  9],\n",
        "                            [10, 11, 12],\n",
        "                            ],\n",
        "                            [\n",
        "                            [13, 14, 15],\n",
        "                            [16, 17, 18],\n",
        "                            ],\n",
        "                            [\n",
        "                            [19, 20, 21],\n",
        "                            [22, 23, 24],\n",
        "                            ]\n",
        "                              ])"
      ]
    },
    {
      "cell_type": "code",
      "execution_count": 6,
      "metadata": {
        "ExecuteTime": {
          "end_time": "2021-03-22T05:32:54.688664Z",
          "start_time": "2021-03-22T05:32:54.677220Z"
        },
        "colab": {
          "base_uri": "https://localhost:8080/"
        },
        "id": "k4Glbc2NY_Va",
        "outputId": "afff6d18-5413-4cbe-cb4d-15bd5976131d"
      },
      "outputs": [
        {
          "output_type": "stream",
          "name": "stdout",
          "text": [
            "torch.Size([])\n",
            "torch.Size([4])\n",
            "torch.Size([4, 2])\n",
            "torch.Size([4, 2, 3])\n"
          ]
        },
        {
          "output_type": "execute_result",
          "data": {
            "text/plain": [
              "tensor(15)"
            ]
          },
          "metadata": {},
          "execution_count": 6
        }
      ],
      "source": [
        "print(torch_scalar.shape)\n",
        "print(torch_vector.shape)\n",
        "print(torch_matrix.shape)\n",
        "print(torch_tensor3d.shape)\n",
        "torch_tensor3d[2, 0, 2]"
      ]
    },
    {
      "cell_type": "code",
      "execution_count": 7,
      "metadata": {
        "ExecuteTime": {
          "end_time": "2021-03-22T05:32:54.694456Z",
          "start_time": "2021-03-22T05:32:54.690164Z"
        },
        "colab": {
          "base_uri": "https://localhost:8080/"
        },
        "id": "hIDBSfp2Y_Va",
        "outputId": "9b72162e-a8d6-42c8-b2ad-ede6de61947b"
      },
      "outputs": [
        {
          "output_type": "stream",
          "name": "stdout",
          "text": [
            "[[0.58840827 0.79502295 0.41326122 0.10253403]\n",
            " [0.89350468 0.13340359 0.44992615 0.71440392]\n",
            " [0.68410467 0.38713376 0.13365928 0.52823574]\n",
            " [0.52101685 0.22026002 0.41412315 0.89936777]]\n"
          ]
        }
      ],
      "source": [
        "x_np = np.random.random((4,4))\n",
        "print(x_np)"
      ]
    },
    {
      "cell_type": "code",
      "execution_count": 8,
      "metadata": {
        "ExecuteTime": {
          "end_time": "2021-03-22T05:32:54.701736Z",
          "start_time": "2021-03-22T05:32:54.697048Z"
        },
        "colab": {
          "base_uri": "https://localhost:8080/"
        },
        "id": "1iL-LRhMY_Vb",
        "outputId": "a71ce892-03a1-4bbe-ab4d-deeff23dc171"
      },
      "outputs": [
        {
          "output_type": "stream",
          "name": "stdout",
          "text": [
            "tensor([[0.5884, 0.7950, 0.4133, 0.1025],\n",
            "        [0.8935, 0.1334, 0.4499, 0.7144],\n",
            "        [0.6841, 0.3871, 0.1337, 0.5282],\n",
            "        [0.5210, 0.2203, 0.4141, 0.8994]], dtype=torch.float64)\n"
          ]
        }
      ],
      "source": [
        "x_pt = torch.tensor(x_np)\n",
        "print(x_pt)"
      ]
    },
    {
      "cell_type": "code",
      "execution_count": 9,
      "metadata": {
        "ExecuteTime": {
          "end_time": "2021-03-22T05:32:54.708524Z",
          "start_time": "2021-03-22T05:32:54.703648Z"
        },
        "colab": {
          "base_uri": "https://localhost:8080/"
        },
        "id": "nMUCV8BpY_Vb",
        "outputId": "17d0f5e1-8dbe-451a-9088-6b6e613389ec"
      },
      "outputs": [
        {
          "output_type": "stream",
          "name": "stdout",
          "text": [
            "float64 torch.float64\n"
          ]
        }
      ],
      "source": [
        "print(x_np.dtype, x_pt.dtype)"
      ]
    },
    {
      "cell_type": "code",
      "execution_count": 10,
      "metadata": {
        "ExecuteTime": {
          "end_time": "2021-03-22T05:32:54.715713Z",
          "start_time": "2021-03-22T05:32:54.710165Z"
        },
        "colab": {
          "base_uri": "https://localhost:8080/"
        },
        "id": "0A5TOkkiY_Vb",
        "outputId": "33ed4c45-87a1-4113-c804-6447f5bfb9c8"
      },
      "outputs": [
        {
          "output_type": "stream",
          "name": "stdout",
          "text": [
            "float32 torch.float32 torch.float32\n"
          ]
        }
      ],
      "source": [
        "#Lets force them to be 32-bit floats\n",
        "x_np = np.asarray(x_np, dtype=np.float32)\n",
        "x_pt = torch.tensor(x_np, dtype=torch.float32)\n",
        "print(x_np.dtype, x_pt.dtype, torch.tensor(x_np).dtype)"
      ]
    },
    {
      "cell_type": "code",
      "execution_count": 11,
      "metadata": {
        "ExecuteTime": {
          "end_time": "2021-03-22T05:32:54.722368Z",
          "start_time": "2021-03-22T05:32:54.717373Z"
        },
        "colab": {
          "base_uri": "https://localhost:8080/"
        },
        "id": "z_MEEKO0Y_Vb",
        "outputId": "5f319f57-8b7d-4ad0-f7de-9e380e3cf31b"
      },
      "outputs": [
        {
          "output_type": "stream",
          "name": "stdout",
          "text": [
            "[[ True  True False False]\n",
            " [ True False False  True]\n",
            " [ True False False  True]\n",
            " [ True False False  True]]\n",
            "bool\n"
          ]
        }
      ],
      "source": [
        "b_np = (x_np > 0.5)\n",
        "print(b_np)\n",
        "print(b_np.dtype)"
      ]
    },
    {
      "cell_type": "code",
      "execution_count": 12,
      "metadata": {
        "ExecuteTime": {
          "end_time": "2021-03-22T05:32:54.729593Z",
          "start_time": "2021-03-22T05:32:54.724132Z"
        },
        "colab": {
          "base_uri": "https://localhost:8080/"
        },
        "id": "mR9VQLphY_Vb",
        "outputId": "1d35ab4d-c748-4eaf-c2cd-7db73b0c7a4c"
      },
      "outputs": [
        {
          "output_type": "stream",
          "name": "stdout",
          "text": [
            "tensor([[ True,  True, False, False],\n",
            "        [ True, False, False,  True],\n",
            "        [ True, False, False,  True],\n",
            "        [ True, False, False,  True]])\n",
            "torch.bool\n"
          ]
        }
      ],
      "source": [
        "b_pt = (x_pt > 0.5)\n",
        "print(b_pt)\n",
        "print(b_pt.dtype)"
      ]
    },
    {
      "cell_type": "code",
      "execution_count": 13,
      "metadata": {
        "ExecuteTime": {
          "end_time": "2021-03-22T05:32:54.737835Z",
          "start_time": "2021-03-22T05:32:54.730952Z"
        },
        "colab": {
          "base_uri": "https://localhost:8080/"
        },
        "id": "pCC-CwGnY_Vb",
        "outputId": "11bbe2ca-5847-4cd0-cf4a-ad8fbb4e08c1"
      },
      "outputs": [
        {
          "output_type": "execute_result",
          "data": {
            "text/plain": [
              "7.878366"
            ]
          },
          "metadata": {},
          "execution_count": 13
        }
      ],
      "source": [
        "np.sum(x_np)"
      ]
    },
    {
      "cell_type": "code",
      "execution_count": 14,
      "metadata": {
        "ExecuteTime": {
          "end_time": "2021-03-22T05:32:54.743037Z",
          "start_time": "2021-03-22T05:32:54.739198Z"
        },
        "colab": {
          "base_uri": "https://localhost:8080/"
        },
        "id": "-slFeiUiY_Vc",
        "outputId": "ce289ef0-f74b-445b-ea44-5cc58776f1ce"
      },
      "outputs": [
        {
          "output_type": "execute_result",
          "data": {
            "text/plain": [
              "tensor(7.8784)"
            ]
          },
          "metadata": {},
          "execution_count": 14
        }
      ],
      "source": [
        "torch.sum(x_pt)"
      ]
    },
    {
      "cell_type": "code",
      "execution_count": 15,
      "metadata": {
        "ExecuteTime": {
          "end_time": "2021-03-22T05:32:54.747879Z",
          "start_time": "2021-03-22T05:32:54.744383Z"
        },
        "colab": {
          "base_uri": "https://localhost:8080/"
        },
        "id": "ooxEkPw5Y_Vc",
        "outputId": "872a8f7e-cc42-4b10-de4d-a85ea2a36005"
      },
      "outputs": [
        {
          "output_type": "execute_result",
          "data": {
            "text/plain": [
              "array([[0.5884083 , 0.8935047 , 0.6841047 , 0.52101684],\n",
              "       [0.79502296, 0.1334036 , 0.38713378, 0.22026002],\n",
              "       [0.4132612 , 0.44992617, 0.13365927, 0.41412315],\n",
              "       [0.10253403, 0.7144039 , 0.52823573, 0.89936775]], dtype=float32)"
            ]
          },
          "metadata": {},
          "execution_count": 15
        }
      ],
      "source": [
        "np.transpose(x_np)"
      ]
    },
    {
      "cell_type": "code",
      "execution_count": 16,
      "metadata": {
        "ExecuteTime": {
          "end_time": "2021-03-22T05:32:54.755058Z",
          "start_time": "2021-03-22T05:32:54.749723Z"
        },
        "colab": {
          "base_uri": "https://localhost:8080/"
        },
        "id": "zPcDSMcvY_Vc",
        "outputId": "0670b67d-d029-4977-8001-f4d540dee662"
      },
      "outputs": [
        {
          "output_type": "execute_result",
          "data": {
            "text/plain": [
              "tensor([[0.5884, 0.8935, 0.6841, 0.5210],\n",
              "        [0.7950, 0.1334, 0.3871, 0.2203],\n",
              "        [0.4133, 0.4499, 0.1337, 0.4141],\n",
              "        [0.1025, 0.7144, 0.5282, 0.8994]])"
            ]
          },
          "metadata": {},
          "execution_count": 16
        }
      ],
      "source": [
        "torch.transpose(x_pt, 0, 1)"
      ]
    },
    {
      "cell_type": "code",
      "execution_count": 17,
      "metadata": {
        "ExecuteTime": {
          "end_time": "2021-03-22T05:32:54.763796Z",
          "start_time": "2021-03-22T05:32:54.756945Z"
        },
        "colab": {
          "base_uri": "https://localhost:8080/"
        },
        "id": "fHmzI5SyY_Vc",
        "outputId": "5ad95feb-99bf-4259-ddf4-5bdd82f07f4a"
      },
      "outputs": [
        {
          "output_type": "stream",
          "name": "stdout",
          "text": [
            "torch.Size([3, 2, 4])\n"
          ]
        }
      ],
      "source": [
        "print(torch.transpose(torch_tensor3d, 0, 2).shape)"
      ]
    },
    {
      "cell_type": "code",
      "execution_count": 18,
      "metadata": {
        "ExecuteTime": {
          "end_time": "2021-03-22T05:32:59.532902Z",
          "start_time": "2021-03-22T05:32:54.765163Z"
        },
        "id": "kEqI2uG6Y_Vc"
      },
      "outputs": [],
      "source": [
        "import timeit\n",
        "x = torch.rand(2**11, 2**11)\n",
        "time_cpu = timeit.timeit(\"x@x\", globals=globals(), number=100)"
      ]
    },
    {
      "cell_type": "code",
      "source": [
        "time_cpu"
      ],
      "metadata": {
        "colab": {
          "base_uri": "https://localhost:8080/"
        },
        "id": "A74Akkb9bL_t",
        "outputId": "7c085efc-9f65-4604-e462-2ac611458244"
      },
      "execution_count": 19,
      "outputs": [
        {
          "output_type": "execute_result",
          "data": {
            "text/plain": [
              "2.0875361040000087"
            ]
          },
          "metadata": {},
          "execution_count": 19
        }
      ]
    },
    {
      "cell_type": "code",
      "execution_count": 20,
      "metadata": {
        "ExecuteTime": {
          "end_time": "2021-03-22T05:32:59.578188Z",
          "start_time": "2021-03-22T05:32:59.539627Z"
        },
        "colab": {
          "base_uri": "https://localhost:8080/"
        },
        "id": "2fEy4ybYY_Vc",
        "outputId": "6232826f-5b42-4071-f8ee-5bfe9b8cb78f"
      },
      "outputs": [
        {
          "output_type": "stream",
          "name": "stdout",
          "text": [
            "Is CUDA available? : True\n"
          ]
        }
      ],
      "source": [
        "print(\"Is CUDA available? :\", torch.cuda.is_available())\n",
        "device = torch.device(\"cuda\")"
      ]
    },
    {
      "cell_type": "markdown",
      "source": [
        "We need to ask torch to move to GPU device. If I were multiplying x by y and y were not on the GPU, it would throw an error"
      ],
      "metadata": {
        "id": "umojGSYbboMj"
      }
    },
    {
      "cell_type": "code",
      "execution_count": 22,
      "metadata": {
        "ExecuteTime": {
          "end_time": "2021-03-22T05:33:01.740576Z",
          "start_time": "2021-03-22T05:32:59.580308Z"
        },
        "colab": {
          "base_uri": "https://localhost:8080/"
        },
        "id": "e0srKHotY_Vd",
        "outputId": "f012f44f-9f4d-4016-e718-2ec44d3bd0d9"
      },
      "outputs": [
        {
          "output_type": "execute_result",
          "data": {
            "text/plain": [
              "0.0027237880000257064"
            ]
          },
          "metadata": {},
          "execution_count": 22
        }
      ],
      "source": [
        "x = x.to(device)\n",
        "time_gpu = timeit.timeit(\"x@x\", globals=globals(), number=100)\n",
        "time_gpu"
      ]
    },
    {
      "cell_type": "markdown",
      "source": [
        "\n",
        "The line `time_gpu = timeit.timeit(\"x@x\", globals=globals(), number=100)` measures the time it takes to perform the matrix multiplication `x@x` on the GPU 100 times.\n",
        "\n",
        "The output of the cell shows that the time it takes to perform the matrix multiplication on the GPU is significantly lower than the time it takes to perform it on the CPU. This is because GPUs are specifically designed to handle large-scale matrix operations efficiently."
      ],
      "metadata": {
        "id": "EyGS7ntTb3IU"
      }
    },
    {
      "cell_type": "markdown",
      "source": [
        "This code goes through common Python and PyTorch containers and moves every object found onto the specified device"
      ],
      "metadata": {
        "id": "syFVTTa9dFBH"
      }
    },
    {
      "cell_type": "code",
      "execution_count": 23,
      "metadata": {
        "ExecuteTime": {
          "end_time": "2021-03-22T05:33:01.957208Z",
          "start_time": "2021-03-22T05:33:01.750393Z"
        },
        "colab": {
          "base_uri": "https://localhost:8080/"
        },
        "id": "SYcYCsqKY_Vd",
        "outputId": "82c9cbd2-e71e-4083-f84f-b3d7da53605a"
      },
      "outputs": [
        {
          "output_type": "stream",
          "name": "stdout",
          "text": [
            "[tensor(1), tensor(2)]\n",
            "[tensor(1, device='cuda:0'), tensor(2, device='cuda:0')]\n",
            "[tensor(1), tensor(2)]\n"
          ]
        }
      ],
      "source": [
        "def moveTo(obj, device):\n",
        "    \"\"\"\n",
        "    obj: the python object to move to a device, or to move its contents to a device\n",
        "    device: the compute device to move objects to\n",
        "    \"\"\"\n",
        "    if isinstance(obj, list):\n",
        "        return [moveTo(x, device) for x in obj]\n",
        "    elif isinstance(obj, tuple):\n",
        "        return tuple(moveTo(list(obj), device))\n",
        "    elif isinstance(obj, set):\n",
        "        return set(moveTo(list(obj), device))\n",
        "    elif isinstance(obj, dict):\n",
        "        to_ret = dict()\n",
        "        for key, value in obj.items():\n",
        "            to_ret[moveTo(key, device)] = moveTo(value, device)\n",
        "        return to_ret\n",
        "    elif hasattr(obj, \"to\"):\n",
        "        return obj.to(device)\n",
        "    else:\n",
        "        return obj\n",
        "\n",
        "some_tensors = [torch.tensor(1), torch.tensor(2)]\n",
        "print(some_tensors)\n",
        "print(moveTo(some_tensors, device))\n",
        "print(some_tensors)"
      ]
    },
    {
      "cell_type": "code",
      "execution_count": 24,
      "metadata": {
        "ExecuteTime": {
          "end_time": "2021-03-22T05:33:02.498610Z",
          "start_time": "2021-03-22T05:33:01.960934Z"
        },
        "colab": {
          "base_uri": "https://localhost:8080/",
          "height": 447
        },
        "id": "tR0Y8SjjY_Vd",
        "outputId": "e7c69889-8a36-44f9-c60d-c98129868b27"
      },
      "outputs": [
        {
          "output_type": "execute_result",
          "data": {
            "text/plain": [
              "<Axes: >"
            ]
          },
          "metadata": {},
          "execution_count": 24
        },
        {
          "output_type": "display_data",
          "data": {
            "text/plain": [
              "<Figure size 640x480 with 1 Axes>"
            ],
            "image/png": "[encoded data removed]",
            "application/pdf": "[encoded data removed]"
          },
          "metadata": {}
        }
      ],
      "source": [
        "def f(x):\n",
        "    return torch.pow((x-2.0), 2)\n",
        "\n",
        "x_axis_vals = np.linspace(-7,9,100)\n",
        "y_axis_vals = f(torch.tensor(x_axis_vals)).numpy()\n",
        "\n",
        "sns.lineplot(x=x_axis_vals, y=y_axis_vals, label='$f(x)=(x-2)^2$')"
      ]
    },
    {
      "cell_type": "code",
      "execution_count": 25,
      "metadata": {
        "ExecuteTime": {
          "end_time": "2021-03-22T05:33:02.866511Z",
          "start_time": "2021-03-22T05:33:02.501436Z"
        },
        "colab": {
          "base_uri": "https://localhost:8080/",
          "height": 447
        },
        "id": "oTBzcGX-Y_Vd",
        "outputId": "0372482f-98dc-450a-c963-c5c831c373c2"
      },
      "outputs": [
        {
          "output_type": "execute_result",
          "data": {
            "text/plain": [
              "<Axes: >"
            ]
          },
          "metadata": {},
          "execution_count": 25
        },
        {
          "output_type": "display_data",
          "data": {
            "text/plain": [
              "<Figure size 640x480 with 1 Axes>"
            ],
            "image/png": "[encoded data removed]",
            "application/pdf": "[encoded data removed]"
          },
          "metadata": {}
        }
      ],
      "source": [
        "def fP(x): #Defining the derivative of f(x) manually\n",
        "    return 2*x-4\n",
        "\n",
        "y_axis_vals_p = fP(torch.tensor(x_axis_vals)).numpy()\n",
        "\n",
        "#First, lets draw a black line at 0, so that we can easily tell if something is positive or negative\n",
        "sns.lineplot(x=x_axis_vals, y=[0.0]*len(x_axis_vals), label=\"0\", color='black')\n",
        "sns.lineplot(x=x_axis_vals, y=y_axis_vals, label='$f(x) = (x-2)^2$')\n",
        "sns.lineplot(x=x_axis_vals, y=y_axis_vals_p, label=\"$f'(x)=2 x - 4$\")"
      ]
    },
    {
      "cell_type": "markdown",
      "source": [
        "PyTorch's autograd, or automatic differentiation, is a fundamental component that enables automatic computation of gradients, which are essential for training neural networks. Here's an explanation of how it works and its main concepts:\n",
        "\n",
        "### Key Concepts\n",
        "\n",
        "1. **Tensors**: Tensors are the core data structure in PyTorch, similar to NumPy arrays but with additional capabilities. They can run on both CPU and GPU for faster computation.\n",
        "\n",
        "2. **Requires_grad**: When creating a tensor, you can set `requires_grad=True` to indicate that PyTorch should track all operations on this tensor. This tracking is necessary for gradient computation.\n",
        "\n",
        "3. **Computational Graph**: When operations are performed on tensors with `requires_grad=True`, PyTorch constructs a computational graph. Each node in the graph represents a tensor, and edges represent functions that produced the tensor from other tensors.\n",
        "\n",
        "4. **Gradient Calculation**: The `backward()` function computes the gradients of all tensors in the computational graph. These gradients are stored in the `.grad` attribute of the tensors.\n",
        "\n",
        "### How Autograd Works\n",
        "\n",
        "1. **Forward Pass**: During the forward pass, PyTorch records the operations performed on tensors to build the computational graph. This graph is dynamic, meaning it's created on-the-fly during the forward pass and can vary with each iteration.\n",
        "\n",
        "2. **Backward Pass**: When the `backward()` method is called on the loss tensor (typically the output of a neural network), PyTorch traverses the computational graph in reverse order. It uses the chain rule to compute the gradients of the loss with respect to each tensor in the graph.\n",
        "\n",
        "### Example\n",
        "\n",
        "Here’s a simple example to illustrate autograd in PyTorch:\n"
      ],
      "metadata": {
        "id": "sJKtYjf2d493"
      }
    },
    {
      "cell_type": "code",
      "source": [
        "# Create tensors\n",
        "x = torch.tensor(2.0, requires_grad=True)\n",
        "y = torch.tensor(3.0, requires_grad=True)\n",
        "\n",
        "# Define a function\n",
        "z = x * y + y ** 2\n",
        "\n",
        "# Compute gradients\n",
        "z.backward()\n",
        "\n",
        "# Print gradients\n",
        "print(x.grad)  # dz/dx\n",
        "print(y.grad)  # dz/dy"
      ],
      "metadata": {
        "colab": {
          "base_uri": "https://localhost:8080/"
        },
        "id": "2brSKJ09eX7K",
        "outputId": "4cdbc4ef-0d7b-4dae-ba39-cd09cdf0d4a3"
      },
      "execution_count": 26,
      "outputs": [
        {
          "output_type": "stream",
          "name": "stdout",
          "text": [
            "tensor(3.)\n",
            "tensor(8.)\n"
          ]
        }
      ]
    },
    {
      "cell_type": "markdown",
      "source": [
        "\n",
        "### Explanation of the Example\n",
        "\n",
        "1. **Tensor Creation**: `x` and `y` are tensors with `requires_grad=True`, meaning PyTorch will track operations on these tensors.\n",
        "\n",
        "2. **Function Definition**: `z = x * y + y ** 2` defines a function of `x` and `y`.\n",
        "\n",
        "3. **Backward Pass**: Calling `z.backward()` computes the gradients of `z` with respect to `x` and `y`.\n",
        "\n",
        "4. **Gradient Access**: The gradients are stored in `x.grad` and `y.grad`, representing the partial derivatives of `z` with respect to `x` and `y`, respectively.\n",
        "\n",
        "### Advanced Features\n",
        "\n",
        "- **Gradient Accumulation**: By default, gradients are accumulated into the `.grad` attribute. This is useful for batch processing, but you must zero out the gradients after each backward pass using `optimizer.zero_grad()`.\n",
        "\n",
        "- **Detaching from the Graph**: Sometimes, you may want to perform operations without tracking them for gradient computation. You can use `.detach()` to create a new tensor that does not require gradients.\n",
        "\n",
        "- **Custom Gradients**: You can define custom gradient functions by subclassing `torch.autograd.Function` and implementing the `forward` and `backward` static methods.\n",
        "\n",
        "PyTorch's autograd provides a flexible and efficient way to handle gradient computations, which is crucial for training neural networks. Its dynamic nature allows for more intuitive debugging and experimentation compared to static computation graphs."
      ],
      "metadata": {
        "id": "q0kQyaBWeZ9J"
      }
    },
    {
      "cell_type": "code",
      "execution_count": 27,
      "metadata": {
        "ExecuteTime": {
          "end_time": "2021-03-22T05:33:02.872628Z",
          "start_time": "2021-03-22T05:33:02.868281Z"
        },
        "colab": {
          "base_uri": "https://localhost:8080/"
        },
        "id": "zAJwuxD1Y_Vd",
        "outputId": "8b597789-314c-4ea8-c5f8-609fbe5d7fba"
      },
      "outputs": [
        {
          "output_type": "stream",
          "name": "stdout",
          "text": [
            "None\n"
          ]
        }
      ],
      "source": [
        "x = torch.tensor([-3.5], requires_grad=True)\n",
        "print(x.grad)"
      ]
    },
    {
      "cell_type": "code",
      "execution_count": 28,
      "metadata": {
        "ExecuteTime": {
          "end_time": "2021-03-22T05:33:02.879284Z",
          "start_time": "2021-03-22T05:33:02.874597Z"
        },
        "colab": {
          "base_uri": "https://localhost:8080/"
        },
        "id": "oX2sZw9TY_Vd",
        "outputId": "5fed8a53-392d-4b67-cbc9-7cb6475a4b07"
      },
      "outputs": [
        {
          "output_type": "stream",
          "name": "stdout",
          "text": [
            "tensor([30.2500], grad_fn=<PowBackward0>)\n"
          ]
        }
      ],
      "source": [
        "value = f(x)\n",
        "print(value)"
      ]
    },
    {
      "cell_type": "code",
      "execution_count": 29,
      "metadata": {
        "ExecuteTime": {
          "end_time": "2021-03-22T05:33:02.887619Z",
          "start_time": "2021-03-22T05:33:02.881506Z"
        },
        "colab": {
          "base_uri": "https://localhost:8080/"
        },
        "id": "bRuHfh4WY_Ve",
        "outputId": "00a0bd07-f2a4-4509-b259-f2762be124c0"
      },
      "outputs": [
        {
          "output_type": "stream",
          "name": "stdout",
          "text": [
            "tensor([-11.])\n"
          ]
        }
      ],
      "source": [
        "value.backward()\n",
        "print(x.grad)"
      ]
    },
    {
      "cell_type": "code",
      "source": [
        "x.data"
      ],
      "metadata": {
        "colab": {
          "base_uri": "https://localhost:8080/"
        },
        "id": "VGwpa09SgMoO",
        "outputId": "870e645e-9f80-4185-cad2-ac2ce0604cf0"
      },
      "execution_count": 30,
      "outputs": [
        {
          "output_type": "execute_result",
          "data": {
            "text/plain": [
              "tensor([-3.5000])"
            ]
          },
          "metadata": {},
          "execution_count": 30
        }
      ]
    },
    {
      "cell_type": "code",
      "execution_count": null,
      "metadata": {
        "ExecuteTime": {
          "end_time": "2021-03-22T05:33:02.906233Z",
          "start_time": "2021-03-22T05:33:02.888975Z"
        },
        "id": "0QdvG1xOY_Ve",
        "outputId": "c532a7fd-83f1-4736-c50a-e74f5813be73"
      },
      "outputs": [
        {
          "name": "stdout",
          "output_type": "stream",
          "text": [
            "tensor([2.0000])\n"
          ]
        }
      ],
      "source": [
        "x = torch.tensor([-3.5], requires_grad=True)\n",
        "\n",
        "x_cur = x.clone()\n",
        "x_prev = x_cur*100 #Make the initial \"previous\" solution larger\n",
        "epsilon = 1e-5\n",
        "eta = 0.1\n",
        "\n",
        "while torch.linalg.norm(x_cur-x_prev) > epsilon:\n",
        "    x_prev = x_cur.clone() #We need to make a clone here so that x_prev and x_cur don't point to the same object\n",
        "\n",
        "    #Compute our function, gradient, and update\n",
        "    value = f(x)\n",
        "    value.backward()\n",
        "    x.data -= eta * x.grad\n",
        "    x.grad.zero_() #We need to zero out the old gradient, as py-torch will not do that for us\n",
        "\n",
        "    #What are we currently now?\n",
        "    x_cur = x.data\n",
        "\n",
        "print(x_cur)"
      ]
    },
    {
      "cell_type": "markdown",
      "source": [
        "In PyTorch, the `data` attribute of a tensor is used to access its underlying raw tensor without the gradient tracking and autograd machinery. This can be useful for certain operations where you want to update the tensor values directly but avoid interfering with the computational graph that autograd is constructing.\n",
        "\n",
        "### Why `x.data`?\n",
        "\n",
        "In the context of the gradient descent loop, `x.data` is used to directly modify the tensor's value without affecting the computational graph. Here’s why it’s used:\n",
        "\n",
        "1. **Avoiding Interference with Autograd**:\n",
        "   - When you perform operations on a tensor with `requires_grad=True`, PyTorch keeps track of these operations to build the computational graph for gradient computation.\n",
        "   - Directly modifying the tensor (e.g., `x -= eta * x.grad`) would involve PyTorch's autograd machinery and could lead to incorrect gradients or errors.\n",
        "   - Using `x.data` allows you to bypass the autograd system and modify the raw tensor data directly.\n",
        "\n",
        "2. **Preventing Gradient Tracking Issues**:\n",
        "   - If you update the tensor directly without using `data`, PyTorch might incorrectly track this operation as part of the computational graph.\n",
        "   - This can cause issues in the subsequent backward pass, leading to incorrect gradient calculations or even runtime errors.\n",
        "   - By using `x.data`, you ensure that the update is not tracked by autograd, maintaining the integrity of the computational graph.\n",
        "\n",
        "3. **Zeroing Gradients**:\n",
        "   - After the gradient update, `x.grad.zero_()` is called to zero out the gradients.\n",
        "   - This is necessary because PyTorch accumulates gradients by default. Zeroing the gradients ensures that the next iteration's gradients are not influenced by previous iterations.\n",
        "\n",
        "### Key Points\n",
        "\n",
        "- **Gradient Calculation**:\n",
        "  - `value.backward()` calculates the gradient of `f` with respect to `x` and stores it in `x.grad`.\n",
        "\n",
        "- **Parameter Update**:\n",
        "  - `x.data -= eta * x.grad` updates the raw data of `x` without affecting the computational graph.\n",
        "\n",
        "- **Zeroing Gradients**:\n",
        "  - `x.grad.zero_()` ensures that the next backward pass starts with a clean gradient slate.\n",
        "\n",
        "By using `x.data`, the code ensures that the gradient descent update step does not interfere with PyTorch's autograd system, enabling correct and efficient gradient-based optimization."
      ],
      "metadata": {
        "id": "4Us7GI4jgbOR"
      }
    },
    {
      "cell_type": "markdown",
      "source": [
        "Parameters can be used interchangeably with tensors, but we can create an `Optimizer` object with parameters."
      ],
      "metadata": {
        "id": "5OGJMF9ah5El"
      }
    },
    {
      "cell_type": "markdown",
      "source": [
        "This code snippet uses PyTorch's `torch.nn.Parameter` and `torch.optim.SGD` to perform gradient descent optimization. This approach is more aligned with how PyTorch is typically used in neural network training. Here's a detailed explanation:\n",
        "\n",
        "### Key Components\n",
        "\n",
        "1. **`torch.nn.Parameter`**:\n",
        "   - `x_param = torch.nn.Parameter(torch.tensor([-3.5]), requires_grad=True)`\n",
        "   - `torch.nn.Parameter` is a special kind of tensor that is intended to be used as a parameter in a neural network module. It is automatically registered as a parameter when assigned as an attribute to a `nn.Module`.\n",
        "   - Here, `x_param` is initialized to -3.5, and `requires_grad=True` indicates that gradients should be computed for it.\n",
        "\n",
        "2. **Optimizer**:\n",
        "   - `optimizer = torch.optim.SGD([x_param], lr=eta)`\n",
        "   - An optimizer is created using stochastic gradient descent (SGD) with the learning rate `eta`.\n",
        "   - The optimizer is given a list of parameters to optimize, in this case, `[x_param]`.\n",
        "\n",
        "3. **Training Loop**:\n",
        "   - This loop runs for 60 epochs (iterations).\n",
        "   - In each iteration:\n",
        "     1. **Zero Gradients**:\n",
        "        - `optimizer.zero_grad()` clears the old gradients. This is equivalent to `x.grad.zero_()` in the manual approach.\n",
        "     2. **Compute Loss**:\n",
        "        - `loss_incurred = f(x_param)` evaluates the function \\( f(x) \\) at the current value of `x_param`.\n",
        "     3. **Backward Pass**:\n",
        "        - `loss_incurred.backward()` computes the gradient of the loss with respect to `x_param` and stores it in `x_param.grad`.\n",
        "     4. **Optimizer Step**:\n",
        "        - `optimizer.step()` updates `x_param` using the computed gradients. This is equivalent to `x.data -= eta * x.grad` in the manual approach.\n",
        "\n",
        "- **Parameter Management**: Using `torch.nn.Parameter` automatically registers the tensor as a parameter.\n",
        "- **Optimizers**: `torch.optim.SGD` provides an easy-to-use interface for implementing gradient descent and other optimization algorithms.\n",
        "- **Gradient Management**: The optimizer handles gradient zeroing and parameter updates, reducing the likelihood of errors and making the code cleaner and more modular.\n"
      ],
      "metadata": {
        "id": "FjbephkGiafx"
      }
    },
    {
      "cell_type": "code",
      "source": [
        "x_param = torch.nn.Parameter(torch.tensor([-3.5]), requires_grad=True)\n",
        "optimizer = torch.optim.SGD([x_param], lr=eta)\n",
        "for epoch in range(60):\n",
        "    optimizer.zero_grad() #x.grad.zero_()\n",
        "    loss_incurred  = f(x_param)\n",
        "    loss_incurred.backward()\n",
        "    optimizer.step() #x.data -= eta * x.grad\n",
        "print(x_param.data)"
      ],
      "metadata": {
        "id": "i_KQTFmbizUi"
      },
      "execution_count": null,
      "outputs": []
    },
    {
      "cell_type": "code",
      "execution_count": 35,
      "metadata": {
        "ExecuteTime": {
          "end_time": "2021-03-22T05:33:18.679235Z",
          "start_time": "2021-03-22T05:33:02.939654Z"
        },
        "colab": {
          "base_uri": "https://localhost:8080/"
        },
        "id": "h8OQgCndY_Ve",
        "outputId": "9eab1716-9686-4e71-e225-6875dc2403b3"
      },
      "outputs": [
        {
          "output_type": "stream",
          "name": "stderr",
          "text": [
            "/usr/local/lib/python3.10/dist-packages/sklearn/datasets/_openml.py:968: FutureWarning: The default value of `parser` will change from `'liac-arff'` to `'auto'` in 1.4. You can set `parser='auto'` to silence this warning. Therefore, an `ImportError` will be raised from 1.4 if the dataset is dense and pandas is not installed. Note that the pandas parser may return different data types. See the Notes Section in fetch_openml's API doc for details.\n",
            "  warn(\n"
          ]
        },
        {
          "output_type": "stream",
          "name": "stdout",
          "text": [
            "(70000, 784)\n"
          ]
        }
      ],
      "source": [
        "from torch.utils.data import Dataset\n",
        "from sklearn.datasets import fetch_openml\n",
        "\n",
        "# Load data from https://www.openml.org/d/554\n",
        "X, y = fetch_openml('mnist_784', version=1, return_X_y=True)\n",
        "print(X.shape)"
      ]
    },
    {
      "cell_type": "code",
      "source": [
        "X = X.to_numpy()\n",
        "y = y.to_numpy()"
      ],
      "metadata": {
        "id": "MLkYDL81mPRU"
      },
      "execution_count": 39,
      "outputs": []
    },
    {
      "cell_type": "code",
      "execution_count": 40,
      "metadata": {
        "ExecuteTime": {
          "end_time": "2021-03-22T05:33:18.684096Z",
          "start_time": "2021-03-22T05:33:18.680539Z"
        },
        "id": "guZPZK17Y_Ve"
      },
      "outputs": [],
      "source": [
        "class SimpleDataset(Dataset):\n",
        "\n",
        "    def __init__(self, X, y):\n",
        "        super(SimpleDataset, self).__init__()\n",
        "        self.X = X\n",
        "        self.y = y\n",
        "\n",
        "    def __getitem__(self, index):\n",
        "        #This \"work\" could have gone in the constructor, but you should get into\n",
        "        inputs = torch.tensor(self.X[index,:], dtype=torch.float32)\n",
        "        targets = torch.tensor(int(self.y[index]), dtype=torch.int64)\n",
        "        return inputs, targets\n",
        "\n",
        "    def __len__(self):\n",
        "        return self.X.shape[0]\n",
        "#Now we can make a PyTorch dataset\n",
        "dataset = SimpleDataset(X, y)"
      ]
    },
    {
      "cell_type": "markdown",
      "source": [
        "Let's break down the code step-by-step to understand its purpose and functionality:\n",
        "\n",
        "### Step-by-Step Explanation\n",
        "\n",
        "1. **Importing Required Libraries**:\n",
        "   ```python\n",
        "   from torch.utils.data import Dataset\n",
        "   from sklearn.datasets import fetch_openml\n",
        "   ```\n",
        "   - `Dataset` from `torch.utils.data` is an abstract class representing a dataset, which can be subclassed to create custom datasets.\n",
        "\n",
        "2. **Creating a Custom Dataset Class**:\n",
        "   ```python\n",
        "   class SimpleDataset(Dataset):\n",
        "        \n",
        "       def __init__(self, X, y):\n",
        "           super(SimpleDataset, self).__init__()\n",
        "           self.X = X\n",
        "           self.y = y\n",
        "       \n",
        "       def __getitem__(self, index):\n",
        "           inputs = torch.tensor(self.X[index,:], dtype=torch.float32)\n",
        "           targets = torch.tensor(int(self.y[index]), dtype=torch.int64)\n",
        "           return inputs, targets\n",
        "\n",
        "       def __len__(self):\n",
        "           return self.X.shape[0]\n",
        "   ```\n",
        "   - `SimpleDataset` is a custom dataset class that subclasses `torch.utils.data.Dataset`.\n",
        "   \n",
        "   **Constructor (`__init__` method)**:\n",
        "   - `__init__(self, X, y)` initializes the dataset with data (`X`) and labels (`y`).\n",
        "   - `super(SimpleDataset, self).__init__()` calls the constructor of the base `Dataset` class.\n",
        "   - `self.X` and `self.y` store the data and labels.\n",
        "   \n",
        "   **Getting a Data Sample (`__getitem__` method)**:\n",
        "   - `__getitem__(self, index)` retrieves a single data sample and its corresponding label.\n",
        "   - `inputs = torch.tensor(self.X[index, :], dtype=torch.float32)` converts the data sample at the given `index` to a PyTorch tensor of type `float32`.\n",
        "   - `targets = torch.tensor(int(self.y[index]), dtype=torch.int64)` converts the label at the given `index` to a PyTorch tensor of type `int64`.\n",
        "   - The method returns a tuple `(inputs, targets)` containing the data sample and its label.\n",
        "   \n",
        "   **Getting the Dataset Size (`__len__` method)**:\n",
        "   - `__len__(self)` returns the number of samples in the dataset, which is `self.X.shape[0]`.\n",
        "\n",
        "3. **Creating a Dataset Instance**:\n",
        "   ```python\n",
        "   dataset = SimpleDataset(X, y)\n",
        "   ```\n",
        "   - An instance of `SimpleDataset` is created with the loaded MNIST data (`X`) and labels (`y`).\n",
        "   - This instance can now be used with PyTorch's data loading utilities, such as `DataLoader`, to facilitate batching, shuffling, and parallel data loading.\n",
        "\n",
        "### Summary\n",
        "\n",
        "The code defines a custom PyTorch dataset for the MNIST dataset. It leverages PyTorch's `Dataset` class to create a simple interface for accessing the data samples and their corresponding labels. This custom dataset can be used with PyTorch's data loading utilities to efficiently handle data during training and evaluation of machine learning models.\n",
        "\n",
        "### Additional Notes\n",
        "\n",
        "- **Data Loading Utilities**:\n",
        "  You can use `torch.utils.data.DataLoader` to load data from this dataset in mini-batches, shuffle the data, and use multiple worker processes for parallel data loading:\n",
        "  ```python\n",
        "  from torch.utils.data import DataLoader\n",
        "\n",
        "  dataloader = DataLoader(dataset, batch_size=32, shuffle=True, num_workers=2)\n",
        "  for inputs, targets in dataloader:\n",
        "      # Training code here\n",
        "      pass\n",
        "  ```\n",
        "- **Transforms**:\n",
        "  You might want to add data preprocessing or augmentation steps. This can be done using `torchvision.transforms`."
      ],
      "metadata": {
        "id": "uN_BAk6LliiM"
      }
    },
    {
      "cell_type": "code",
      "execution_count": 41,
      "metadata": {
        "ExecuteTime": {
          "end_time": "2021-03-22T05:33:18.698359Z",
          "start_time": "2021-03-22T05:33:18.685197Z"
        },
        "colab": {
          "base_uri": "https://localhost:8080/"
        },
        "id": "QppmPIp6Y_Vf",
        "outputId": "08623b17-c0b5-4a49-ae8d-a22d03582dc9"
      },
      "outputs": [
        {
          "output_type": "stream",
          "name": "stdout",
          "text": [
            "Length:  70000\n",
            "Features:  torch.Size([784])\n",
            "Label of index 0:  tensor(5)\n"
          ]
        }
      ],
      "source": [
        "print(\"Length: \", len(dataset))\n",
        "example, label = dataset[0]\n",
        "print(\"Features: \", example.shape) #Will return 784\n",
        "print(\"Label of index 0: \", label)"
      ]
    },
    {
      "cell_type": "code",
      "execution_count": 42,
      "metadata": {
        "ExecuteTime": {
          "end_time": "2021-03-22T05:33:18.934961Z",
          "start_time": "2021-03-22T05:33:18.700260Z"
        },
        "max_h": 0.3,
        "max_w": 0.9,
        "colab": {
          "base_uri": "https://localhost:8080/",
          "height": 447
        },
        "id": "rVvKsku9Y_Vf",
        "outputId": "de17c03d-6c45-4ee4-af67-9ed658b9b0b2"
      },
      "outputs": [
        {
          "output_type": "execute_result",
          "data": {
            "text/plain": [
              "<matplotlib.image.AxesImage at 0x7ca0b3261990>"
            ]
          },
          "metadata": {},
          "execution_count": 42
        },
        {
          "output_type": "display_data",
          "data": {
            "text/plain": [
              "<Figure size 640x480 with 1 Axes>"
            ],
            "image/png": "[encoded data removed]",
            "application/pdf": "[encoded data removed]"
          },
          "metadata": {}
        }
      ],
      "source": [
        "plt.imshow(example.reshape((28,28)))"
      ]
    },
    {
      "cell_type": "code",
      "execution_count": 43,
      "metadata": {
        "ExecuteTime": {
          "end_time": "2021-03-22T05:33:18.943218Z",
          "start_time": "2021-03-22T05:33:18.936102Z"
        },
        "colab": {
          "base_uri": "https://localhost:8080/"
        },
        "id": "vgAVCWIAY_Vf",
        "outputId": "dcb27876-6537-4652-a512-3f5a79f52092"
      },
      "outputs": [
        {
          "output_type": "stream",
          "name": "stdout",
          "text": [
            "56000 examples for training and 14000 for testing\n"
          ]
        }
      ],
      "source": [
        "train_size = int(len(dataset)*0.8)\n",
        "test_size = len(dataset)-train_size\n",
        "\n",
        "train_dataset, test_dataset = torch.utils.data.random_split(dataset, (train_size, test_size))\n",
        "print(\"{} examples for training and {} for testing\".format(len(train_dataset), len(test_dataset)))"
      ]
    },
    {
      "cell_type": "code",
      "source": [],
      "metadata": {
        "id": "DHmHczAUmdNx"
      },
      "execution_count": null,
      "outputs": []
    }
  ],
  "metadata": {
    "author": "Why PyTorch?",
    "celltoolbar": "Tags",
    "kernelspec": {
      "display_name": "Python 3",
      "name": "python3"
    },
    "language_info": {
      "codemirror_mode": {
        "name": "ipython",
        "version": 3
      },
      "file_extension": ".py",
      "mimetype": "text/x-python",
      "name": "python",
      "nbconvert_exporter": "python",
      "pygments_lexer": "ipython3",
      "version": "3.7.9"
    },
    "latex_envs": {
      "LaTeX_envs_menu_present": true,
      "autoclose": false,
      "autocomplete": false,
      "bibliofile": "biblio.bib",
      "cite_by": "apalike",
      "current_citInitial": 1,
      "eqLabelWithNumbers": true,
      "eqNumInitial": 1,
      "hotkeys": {
        "equation": "Ctrl-E",
        "itemize": "Ctrl-I"
      },
      "labels_anchors": false,
      "latex_user_defs": false,
      "report_style_numbering": false,
      "user_envs_cfg": false
    },
    "latex_metadata": {
      "title": "The Mechanics of Learning"
    },
    "varInspector": {
      "cols": {
        "lenName": 16,
        "lenType": 16,
        "lenVar": 40
      },
      "kernels_config": {
        "python": {
          "delete_cmd_postfix": "",
          "delete_cmd_prefix": "del ",
          "library": "var_list.py",
          "varRefreshCmd": "print(var_dic_list())"
        },
        "r": {
          "delete_cmd_postfix": ") ",
          "delete_cmd_prefix": "rm(",
          "library": "var_list.r",
          "varRefreshCmd": "cat(var_dic_list()) "
        }
      },
      "types_to_exclude": [
        "module",
        "function",
        "builtin_function_or_method",
        "instance",
        "_Feature"
      ],
      "window_display": false
    },
    "colab": {
      "provenance": [],
      "gpuType": "L4"
    },
    "accelerator": "GPU"
  },
  "nbformat": 4,
  "nbformat_minor": 0
}